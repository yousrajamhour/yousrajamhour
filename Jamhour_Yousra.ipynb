{
  "nbformat": 4,
  "nbformat_minor": 0,
  "metadata": {
    "colab": {
      "name": "Jamhour_Yousra.ipynb",
      "provenance": [],
      "collapsed_sections": [],
      "include_colab_link": true
    },
    "kernelspec": {
      "name": "python3",
      "display_name": "Python 3"
    },
    "language_info": {
      "name": "python"
    }
  },
  "cells": [
    {
      "cell_type": "markdown",
      "metadata": {
        "id": "view-in-github",
        "colab_type": "text"
      },
      "source": [
        "<a href=\"https://colab.research.google.com/github/yousrajamhour/yousrajamhour/blob/main/Jamhour_Yousra.ipynb\" target=\"_parent\"><img src=\"https://colab.research.google.com/assets/colab-badge.svg\" alt=\"Open In Colab\"/></a>"
      ]
    },
    {
      "cell_type": "code",
      "metadata": {
        "id": "_l-oQ3C73eay"
      },
      "source": [
        "import pandas as pd\n",
        "import matplotlib.pyplot as plt\n",
        "from scipy import stats\n",
        "import numpy as np\n",
        "import seaborn"
      ],
      "execution_count": 1,
      "outputs": []
    },
    {
      "cell_type": "code",
      "metadata": {
        "colab": {
          "base_uri": "https://localhost:8080/",
          "height": 439
        },
        "id": "ho3f_5tZ3sfL",
        "outputId": "fb991c96-40d0-4744-b2ab-0683cdb7b09d"
      },
      "source": [
        "data=pd.read_csv('AirQualityUCI.csv',sep=';')\n",
        "data"
      ],
      "execution_count": 2,
      "outputs": [
        {
          "output_type": "execute_result",
          "data": {
            "text/html": [
              "<div>\n",
              "<style scoped>\n",
              "    .dataframe tbody tr th:only-of-type {\n",
              "        vertical-align: middle;\n",
              "    }\n",
              "\n",
              "    .dataframe tbody tr th {\n",
              "        vertical-align: top;\n",
              "    }\n",
              "\n",
              "    .dataframe thead th {\n",
              "        text-align: right;\n",
              "    }\n",
              "</style>\n",
              "<table border=\"1\" class=\"dataframe\">\n",
              "  <thead>\n",
              "    <tr style=\"text-align: right;\">\n",
              "      <th></th>\n",
              "      <th>Date</th>\n",
              "      <th>Time</th>\n",
              "      <th>CO(GT)</th>\n",
              "      <th>PT08.S1(CO)</th>\n",
              "      <th>NMHC(GT)</th>\n",
              "      <th>C6H6(GT)</th>\n",
              "      <th>PT08.S2(NMHC)</th>\n",
              "      <th>NOx(GT)</th>\n",
              "      <th>PT08.S3(NOx)</th>\n",
              "      <th>NO2(GT)</th>\n",
              "      <th>PT08.S4(NO2)</th>\n",
              "      <th>PT08.S5(O3)</th>\n",
              "      <th>T</th>\n",
              "      <th>RH</th>\n",
              "      <th>AH</th>\n",
              "    </tr>\n",
              "  </thead>\n",
              "  <tbody>\n",
              "    <tr>\n",
              "      <th>0</th>\n",
              "      <td>10/03/2004</td>\n",
              "      <td>18.00.00</td>\n",
              "      <td>2,6</td>\n",
              "      <td>1360</td>\n",
              "      <td>150</td>\n",
              "      <td>11,9</td>\n",
              "      <td>1046</td>\n",
              "      <td>166</td>\n",
              "      <td>1056</td>\n",
              "      <td>113</td>\n",
              "      <td>1692</td>\n",
              "      <td>1268</td>\n",
              "      <td>13,6</td>\n",
              "      <td>48,9</td>\n",
              "      <td>0,7578</td>\n",
              "    </tr>\n",
              "    <tr>\n",
              "      <th>1</th>\n",
              "      <td>10/03/2004</td>\n",
              "      <td>19.00.00</td>\n",
              "      <td>2</td>\n",
              "      <td>1292</td>\n",
              "      <td>112</td>\n",
              "      <td>9,4</td>\n",
              "      <td>955</td>\n",
              "      <td>103</td>\n",
              "      <td>1174</td>\n",
              "      <td>92</td>\n",
              "      <td>1559</td>\n",
              "      <td>972</td>\n",
              "      <td>13,3</td>\n",
              "      <td>47,7</td>\n",
              "      <td>0,7255</td>\n",
              "    </tr>\n",
              "    <tr>\n",
              "      <th>2</th>\n",
              "      <td>10/03/2004</td>\n",
              "      <td>20.00.00</td>\n",
              "      <td>2,2</td>\n",
              "      <td>1402</td>\n",
              "      <td>88</td>\n",
              "      <td>9</td>\n",
              "      <td>939</td>\n",
              "      <td>131</td>\n",
              "      <td>1140</td>\n",
              "      <td>114</td>\n",
              "      <td>1555</td>\n",
              "      <td>1074</td>\n",
              "      <td>11,9</td>\n",
              "      <td>54</td>\n",
              "      <td>0,7502</td>\n",
              "    </tr>\n",
              "    <tr>\n",
              "      <th>3</th>\n",
              "      <td>10/03/2004</td>\n",
              "      <td>21.00.00</td>\n",
              "      <td>2,2</td>\n",
              "      <td>1376</td>\n",
              "      <td>80</td>\n",
              "      <td>9,2</td>\n",
              "      <td>948</td>\n",
              "      <td>172</td>\n",
              "      <td>1092</td>\n",
              "      <td>122</td>\n",
              "      <td>1584</td>\n",
              "      <td>1203</td>\n",
              "      <td>11</td>\n",
              "      <td>60</td>\n",
              "      <td>0,7867</td>\n",
              "    </tr>\n",
              "    <tr>\n",
              "      <th>4</th>\n",
              "      <td>10/03/2004</td>\n",
              "      <td>22.00.00</td>\n",
              "      <td>1,6</td>\n",
              "      <td>1272</td>\n",
              "      <td>51</td>\n",
              "      <td>6,5</td>\n",
              "      <td>836</td>\n",
              "      <td>131</td>\n",
              "      <td>1205</td>\n",
              "      <td>116</td>\n",
              "      <td>1490</td>\n",
              "      <td>1110</td>\n",
              "      <td>11,2</td>\n",
              "      <td>59,6</td>\n",
              "      <td>0,7888</td>\n",
              "    </tr>\n",
              "    <tr>\n",
              "      <th>...</th>\n",
              "      <td>...</td>\n",
              "      <td>...</td>\n",
              "      <td>...</td>\n",
              "      <td>...</td>\n",
              "      <td>...</td>\n",
              "      <td>...</td>\n",
              "      <td>...</td>\n",
              "      <td>...</td>\n",
              "      <td>...</td>\n",
              "      <td>...</td>\n",
              "      <td>...</td>\n",
              "      <td>...</td>\n",
              "      <td>...</td>\n",
              "      <td>...</td>\n",
              "      <td>...</td>\n",
              "    </tr>\n",
              "    <tr>\n",
              "      <th>9352</th>\n",
              "      <td>04/04/2005</td>\n",
              "      <td>10.00.00</td>\n",
              "      <td>3,1</td>\n",
              "      <td>1314</td>\n",
              "      <td>-200</td>\n",
              "      <td>13,5</td>\n",
              "      <td>1101</td>\n",
              "      <td>472</td>\n",
              "      <td>539</td>\n",
              "      <td>190</td>\n",
              "      <td>1374</td>\n",
              "      <td>1729</td>\n",
              "      <td>21,9</td>\n",
              "      <td>29,3</td>\n",
              "      <td>0,7568</td>\n",
              "    </tr>\n",
              "    <tr>\n",
              "      <th>9353</th>\n",
              "      <td>04/04/2005</td>\n",
              "      <td>11.00.00</td>\n",
              "      <td>2,4</td>\n",
              "      <td>1163</td>\n",
              "      <td>-200</td>\n",
              "      <td>11,4</td>\n",
              "      <td>1027</td>\n",
              "      <td>353</td>\n",
              "      <td>604</td>\n",
              "      <td>179</td>\n",
              "      <td>1264</td>\n",
              "      <td>1269</td>\n",
              "      <td>24,3</td>\n",
              "      <td>23,7</td>\n",
              "      <td>0,7119</td>\n",
              "    </tr>\n",
              "    <tr>\n",
              "      <th>9354</th>\n",
              "      <td>04/04/2005</td>\n",
              "      <td>12.00.00</td>\n",
              "      <td>2,4</td>\n",
              "      <td>1142</td>\n",
              "      <td>-200</td>\n",
              "      <td>12,4</td>\n",
              "      <td>1063</td>\n",
              "      <td>293</td>\n",
              "      <td>603</td>\n",
              "      <td>175</td>\n",
              "      <td>1241</td>\n",
              "      <td>1092</td>\n",
              "      <td>26,9</td>\n",
              "      <td>18,3</td>\n",
              "      <td>0,6406</td>\n",
              "    </tr>\n",
              "    <tr>\n",
              "      <th>9355</th>\n",
              "      <td>04/04/2005</td>\n",
              "      <td>13.00.00</td>\n",
              "      <td>2,1</td>\n",
              "      <td>1003</td>\n",
              "      <td>-200</td>\n",
              "      <td>9,5</td>\n",
              "      <td>961</td>\n",
              "      <td>235</td>\n",
              "      <td>702</td>\n",
              "      <td>156</td>\n",
              "      <td>1041</td>\n",
              "      <td>770</td>\n",
              "      <td>28,3</td>\n",
              "      <td>13,5</td>\n",
              "      <td>0,5139</td>\n",
              "    </tr>\n",
              "    <tr>\n",
              "      <th>9356</th>\n",
              "      <td>04/04/2005</td>\n",
              "      <td>14.00.00</td>\n",
              "      <td>2,2</td>\n",
              "      <td>1071</td>\n",
              "      <td>-200</td>\n",
              "      <td>11,9</td>\n",
              "      <td>1047</td>\n",
              "      <td>265</td>\n",
              "      <td>654</td>\n",
              "      <td>168</td>\n",
              "      <td>1129</td>\n",
              "      <td>816</td>\n",
              "      <td>28,5</td>\n",
              "      <td>13,1</td>\n",
              "      <td>0,5028</td>\n",
              "    </tr>\n",
              "  </tbody>\n",
              "</table>\n",
              "<p>9357 rows × 15 columns</p>\n",
              "</div>"
            ],
            "text/plain": [
              "            Date      Time CO(GT)  PT08.S1(CO)  ...  PT08.S5(O3)     T    RH      AH\n",
              "0     10/03/2004  18.00.00    2,6         1360  ...         1268  13,6  48,9  0,7578\n",
              "1     10/03/2004  19.00.00      2         1292  ...          972  13,3  47,7  0,7255\n",
              "2     10/03/2004  20.00.00    2,2         1402  ...         1074  11,9    54  0,7502\n",
              "3     10/03/2004  21.00.00    2,2         1376  ...         1203    11    60  0,7867\n",
              "4     10/03/2004  22.00.00    1,6         1272  ...         1110  11,2  59,6  0,7888\n",
              "...          ...       ...    ...          ...  ...          ...   ...   ...     ...\n",
              "9352  04/04/2005  10.00.00    3,1         1314  ...         1729  21,9  29,3  0,7568\n",
              "9353  04/04/2005  11.00.00    2,4         1163  ...         1269  24,3  23,7  0,7119\n",
              "9354  04/04/2005  12.00.00    2,4         1142  ...         1092  26,9  18,3  0,6406\n",
              "9355  04/04/2005  13.00.00    2,1         1003  ...          770  28,3  13,5  0,5139\n",
              "9356  04/04/2005  14.00.00    2,2         1071  ...          816  28,5  13,1  0,5028\n",
              "\n",
              "[9357 rows x 15 columns]"
            ]
          },
          "metadata": {
            "tags": []
          },
          "execution_count": 2
        }
      ]
    },
    {
      "cell_type": "code",
      "metadata": {
        "id": "AAWZs7Oa2hz_"
      },
      "source": [
        "data['C6H6(GT)']=data['C6H6(GT)'].str.replace(',','.')\n",
        "data['CO(GT)']=data['CO(GT)'].str.replace(',','.')\n",
        "data['T']=data['T'].str.replace(',','.')\n",
        "data['RH']=data['RH'].str.replace(',','.')\n",
        "data['AH']=data['AH'].str.replace(',','.')\n",
        "data['C6H6(GT)']=data['C6H6(GT)'].astype(float)\n",
        "data[['CO(GT)','T','RH','AH']] = data[['CO(GT)','T','RH','AH']].astype(float)"
      ],
      "execution_count": 3,
      "outputs": []
    },
    {
      "cell_type": "markdown",
      "metadata": {
        "id": "aZw9_HTZ2auT"
      },
      "source": [
        "nous avons remplacé chaque virgule existant dans les valeurs de notre data par des points pour qu'on puisse rendre les valeurs en float \n",
        "ensuite nous avons rendu chaque valeur des colonnes en float"
      ]
    },
    {
      "cell_type": "code",
      "metadata": {
        "colab": {
          "base_uri": "https://localhost:8080/",
          "height": 439
        },
        "id": "nC0kWrzS4Aei",
        "outputId": "64378f56-377f-4e07-b72d-812445ce6bd2"
      },
      "source": [
        "data"
      ],
      "execution_count": 4,
      "outputs": [
        {
          "output_type": "execute_result",
          "data": {
            "text/html": [
              "<div>\n",
              "<style scoped>\n",
              "    .dataframe tbody tr th:only-of-type {\n",
              "        vertical-align: middle;\n",
              "    }\n",
              "\n",
              "    .dataframe tbody tr th {\n",
              "        vertical-align: top;\n",
              "    }\n",
              "\n",
              "    .dataframe thead th {\n",
              "        text-align: right;\n",
              "    }\n",
              "</style>\n",
              "<table border=\"1\" class=\"dataframe\">\n",
              "  <thead>\n",
              "    <tr style=\"text-align: right;\">\n",
              "      <th></th>\n",
              "      <th>Date</th>\n",
              "      <th>Time</th>\n",
              "      <th>CO(GT)</th>\n",
              "      <th>PT08.S1(CO)</th>\n",
              "      <th>NMHC(GT)</th>\n",
              "      <th>C6H6(GT)</th>\n",
              "      <th>PT08.S2(NMHC)</th>\n",
              "      <th>NOx(GT)</th>\n",
              "      <th>PT08.S3(NOx)</th>\n",
              "      <th>NO2(GT)</th>\n",
              "      <th>PT08.S4(NO2)</th>\n",
              "      <th>PT08.S5(O3)</th>\n",
              "      <th>T</th>\n",
              "      <th>RH</th>\n",
              "      <th>AH</th>\n",
              "    </tr>\n",
              "  </thead>\n",
              "  <tbody>\n",
              "    <tr>\n",
              "      <th>0</th>\n",
              "      <td>10/03/2004</td>\n",
              "      <td>18.00.00</td>\n",
              "      <td>2.6</td>\n",
              "      <td>1360</td>\n",
              "      <td>150</td>\n",
              "      <td>11.9</td>\n",
              "      <td>1046</td>\n",
              "      <td>166</td>\n",
              "      <td>1056</td>\n",
              "      <td>113</td>\n",
              "      <td>1692</td>\n",
              "      <td>1268</td>\n",
              "      <td>13.6</td>\n",
              "      <td>48.9</td>\n",
              "      <td>0.7578</td>\n",
              "    </tr>\n",
              "    <tr>\n",
              "      <th>1</th>\n",
              "      <td>10/03/2004</td>\n",
              "      <td>19.00.00</td>\n",
              "      <td>2.0</td>\n",
              "      <td>1292</td>\n",
              "      <td>112</td>\n",
              "      <td>9.4</td>\n",
              "      <td>955</td>\n",
              "      <td>103</td>\n",
              "      <td>1174</td>\n",
              "      <td>92</td>\n",
              "      <td>1559</td>\n",
              "      <td>972</td>\n",
              "      <td>13.3</td>\n",
              "      <td>47.7</td>\n",
              "      <td>0.7255</td>\n",
              "    </tr>\n",
              "    <tr>\n",
              "      <th>2</th>\n",
              "      <td>10/03/2004</td>\n",
              "      <td>20.00.00</td>\n",
              "      <td>2.2</td>\n",
              "      <td>1402</td>\n",
              "      <td>88</td>\n",
              "      <td>9.0</td>\n",
              "      <td>939</td>\n",
              "      <td>131</td>\n",
              "      <td>1140</td>\n",
              "      <td>114</td>\n",
              "      <td>1555</td>\n",
              "      <td>1074</td>\n",
              "      <td>11.9</td>\n",
              "      <td>54.0</td>\n",
              "      <td>0.7502</td>\n",
              "    </tr>\n",
              "    <tr>\n",
              "      <th>3</th>\n",
              "      <td>10/03/2004</td>\n",
              "      <td>21.00.00</td>\n",
              "      <td>2.2</td>\n",
              "      <td>1376</td>\n",
              "      <td>80</td>\n",
              "      <td>9.2</td>\n",
              "      <td>948</td>\n",
              "      <td>172</td>\n",
              "      <td>1092</td>\n",
              "      <td>122</td>\n",
              "      <td>1584</td>\n",
              "      <td>1203</td>\n",
              "      <td>11.0</td>\n",
              "      <td>60.0</td>\n",
              "      <td>0.7867</td>\n",
              "    </tr>\n",
              "    <tr>\n",
              "      <th>4</th>\n",
              "      <td>10/03/2004</td>\n",
              "      <td>22.00.00</td>\n",
              "      <td>1.6</td>\n",
              "      <td>1272</td>\n",
              "      <td>51</td>\n",
              "      <td>6.5</td>\n",
              "      <td>836</td>\n",
              "      <td>131</td>\n",
              "      <td>1205</td>\n",
              "      <td>116</td>\n",
              "      <td>1490</td>\n",
              "      <td>1110</td>\n",
              "      <td>11.2</td>\n",
              "      <td>59.6</td>\n",
              "      <td>0.7888</td>\n",
              "    </tr>\n",
              "    <tr>\n",
              "      <th>...</th>\n",
              "      <td>...</td>\n",
              "      <td>...</td>\n",
              "      <td>...</td>\n",
              "      <td>...</td>\n",
              "      <td>...</td>\n",
              "      <td>...</td>\n",
              "      <td>...</td>\n",
              "      <td>...</td>\n",
              "      <td>...</td>\n",
              "      <td>...</td>\n",
              "      <td>...</td>\n",
              "      <td>...</td>\n",
              "      <td>...</td>\n",
              "      <td>...</td>\n",
              "      <td>...</td>\n",
              "    </tr>\n",
              "    <tr>\n",
              "      <th>9352</th>\n",
              "      <td>04/04/2005</td>\n",
              "      <td>10.00.00</td>\n",
              "      <td>3.1</td>\n",
              "      <td>1314</td>\n",
              "      <td>-200</td>\n",
              "      <td>13.5</td>\n",
              "      <td>1101</td>\n",
              "      <td>472</td>\n",
              "      <td>539</td>\n",
              "      <td>190</td>\n",
              "      <td>1374</td>\n",
              "      <td>1729</td>\n",
              "      <td>21.9</td>\n",
              "      <td>29.3</td>\n",
              "      <td>0.7568</td>\n",
              "    </tr>\n",
              "    <tr>\n",
              "      <th>9353</th>\n",
              "      <td>04/04/2005</td>\n",
              "      <td>11.00.00</td>\n",
              "      <td>2.4</td>\n",
              "      <td>1163</td>\n",
              "      <td>-200</td>\n",
              "      <td>11.4</td>\n",
              "      <td>1027</td>\n",
              "      <td>353</td>\n",
              "      <td>604</td>\n",
              "      <td>179</td>\n",
              "      <td>1264</td>\n",
              "      <td>1269</td>\n",
              "      <td>24.3</td>\n",
              "      <td>23.7</td>\n",
              "      <td>0.7119</td>\n",
              "    </tr>\n",
              "    <tr>\n",
              "      <th>9354</th>\n",
              "      <td>04/04/2005</td>\n",
              "      <td>12.00.00</td>\n",
              "      <td>2.4</td>\n",
              "      <td>1142</td>\n",
              "      <td>-200</td>\n",
              "      <td>12.4</td>\n",
              "      <td>1063</td>\n",
              "      <td>293</td>\n",
              "      <td>603</td>\n",
              "      <td>175</td>\n",
              "      <td>1241</td>\n",
              "      <td>1092</td>\n",
              "      <td>26.9</td>\n",
              "      <td>18.3</td>\n",
              "      <td>0.6406</td>\n",
              "    </tr>\n",
              "    <tr>\n",
              "      <th>9355</th>\n",
              "      <td>04/04/2005</td>\n",
              "      <td>13.00.00</td>\n",
              "      <td>2.1</td>\n",
              "      <td>1003</td>\n",
              "      <td>-200</td>\n",
              "      <td>9.5</td>\n",
              "      <td>961</td>\n",
              "      <td>235</td>\n",
              "      <td>702</td>\n",
              "      <td>156</td>\n",
              "      <td>1041</td>\n",
              "      <td>770</td>\n",
              "      <td>28.3</td>\n",
              "      <td>13.5</td>\n",
              "      <td>0.5139</td>\n",
              "    </tr>\n",
              "    <tr>\n",
              "      <th>9356</th>\n",
              "      <td>04/04/2005</td>\n",
              "      <td>14.00.00</td>\n",
              "      <td>2.2</td>\n",
              "      <td>1071</td>\n",
              "      <td>-200</td>\n",
              "      <td>11.9</td>\n",
              "      <td>1047</td>\n",
              "      <td>265</td>\n",
              "      <td>654</td>\n",
              "      <td>168</td>\n",
              "      <td>1129</td>\n",
              "      <td>816</td>\n",
              "      <td>28.5</td>\n",
              "      <td>13.1</td>\n",
              "      <td>0.5028</td>\n",
              "    </tr>\n",
              "  </tbody>\n",
              "</table>\n",
              "<p>9357 rows × 15 columns</p>\n",
              "</div>"
            ],
            "text/plain": [
              "            Date      Time  CO(GT)  ...     T    RH      AH\n",
              "0     10/03/2004  18.00.00     2.6  ...  13.6  48.9  0.7578\n",
              "1     10/03/2004  19.00.00     2.0  ...  13.3  47.7  0.7255\n",
              "2     10/03/2004  20.00.00     2.2  ...  11.9  54.0  0.7502\n",
              "3     10/03/2004  21.00.00     2.2  ...  11.0  60.0  0.7867\n",
              "4     10/03/2004  22.00.00     1.6  ...  11.2  59.6  0.7888\n",
              "...          ...       ...     ...  ...   ...   ...     ...\n",
              "9352  04/04/2005  10.00.00     3.1  ...  21.9  29.3  0.7568\n",
              "9353  04/04/2005  11.00.00     2.4  ...  24.3  23.7  0.7119\n",
              "9354  04/04/2005  12.00.00     2.4  ...  26.9  18.3  0.6406\n",
              "9355  04/04/2005  13.00.00     2.1  ...  28.3  13.5  0.5139\n",
              "9356  04/04/2005  14.00.00     2.2  ...  28.5  13.1  0.5028\n",
              "\n",
              "[9357 rows x 15 columns]"
            ]
          },
          "metadata": {
            "tags": []
          },
          "execution_count": 4
        }
      ]
    },
    {
      "cell_type": "code",
      "metadata": {
        "id": "hfgFYmuz4Cuz"
      },
      "source": [
        "data.dropna(axis=0, how= 'all', inplace=True)\n",
        "data.dropna(axis=1, inplace=True)"
      ],
      "execution_count": 5,
      "outputs": []
    },
    {
      "cell_type": "code",
      "metadata": {
        "colab": {
          "base_uri": "https://localhost:8080/",
          "height": 224
        },
        "id": "5TKvuiGU6cMf",
        "outputId": "fd430bc5-86f2-4b4e-c731-f2df30319cce"
      },
      "source": [
        "data.replace(to_replace= -200, value= np.NaN, inplace= True)\n",
        "data.tail()"
      ],
      "execution_count": 6,
      "outputs": [
        {
          "output_type": "execute_result",
          "data": {
            "text/html": [
              "<div>\n",
              "<style scoped>\n",
              "    .dataframe tbody tr th:only-of-type {\n",
              "        vertical-align: middle;\n",
              "    }\n",
              "\n",
              "    .dataframe tbody tr th {\n",
              "        vertical-align: top;\n",
              "    }\n",
              "\n",
              "    .dataframe thead th {\n",
              "        text-align: right;\n",
              "    }\n",
              "</style>\n",
              "<table border=\"1\" class=\"dataframe\">\n",
              "  <thead>\n",
              "    <tr style=\"text-align: right;\">\n",
              "      <th></th>\n",
              "      <th>Date</th>\n",
              "      <th>Time</th>\n",
              "      <th>CO(GT)</th>\n",
              "      <th>PT08.S1(CO)</th>\n",
              "      <th>NMHC(GT)</th>\n",
              "      <th>C6H6(GT)</th>\n",
              "      <th>PT08.S2(NMHC)</th>\n",
              "      <th>NOx(GT)</th>\n",
              "      <th>PT08.S3(NOx)</th>\n",
              "      <th>NO2(GT)</th>\n",
              "      <th>PT08.S4(NO2)</th>\n",
              "      <th>PT08.S5(O3)</th>\n",
              "      <th>T</th>\n",
              "      <th>RH</th>\n",
              "      <th>AH</th>\n",
              "    </tr>\n",
              "  </thead>\n",
              "  <tbody>\n",
              "    <tr>\n",
              "      <th>9352</th>\n",
              "      <td>04/04/2005</td>\n",
              "      <td>10.00.00</td>\n",
              "      <td>3.1</td>\n",
              "      <td>1314.0</td>\n",
              "      <td>NaN</td>\n",
              "      <td>13.5</td>\n",
              "      <td>1101.0</td>\n",
              "      <td>472.0</td>\n",
              "      <td>539.0</td>\n",
              "      <td>190.0</td>\n",
              "      <td>1374.0</td>\n",
              "      <td>1729.0</td>\n",
              "      <td>21.9</td>\n",
              "      <td>29.3</td>\n",
              "      <td>0.7568</td>\n",
              "    </tr>\n",
              "    <tr>\n",
              "      <th>9353</th>\n",
              "      <td>04/04/2005</td>\n",
              "      <td>11.00.00</td>\n",
              "      <td>2.4</td>\n",
              "      <td>1163.0</td>\n",
              "      <td>NaN</td>\n",
              "      <td>11.4</td>\n",
              "      <td>1027.0</td>\n",
              "      <td>353.0</td>\n",
              "      <td>604.0</td>\n",
              "      <td>179.0</td>\n",
              "      <td>1264.0</td>\n",
              "      <td>1269.0</td>\n",
              "      <td>24.3</td>\n",
              "      <td>23.7</td>\n",
              "      <td>0.7119</td>\n",
              "    </tr>\n",
              "    <tr>\n",
              "      <th>9354</th>\n",
              "      <td>04/04/2005</td>\n",
              "      <td>12.00.00</td>\n",
              "      <td>2.4</td>\n",
              "      <td>1142.0</td>\n",
              "      <td>NaN</td>\n",
              "      <td>12.4</td>\n",
              "      <td>1063.0</td>\n",
              "      <td>293.0</td>\n",
              "      <td>603.0</td>\n",
              "      <td>175.0</td>\n",
              "      <td>1241.0</td>\n",
              "      <td>1092.0</td>\n",
              "      <td>26.9</td>\n",
              "      <td>18.3</td>\n",
              "      <td>0.6406</td>\n",
              "    </tr>\n",
              "    <tr>\n",
              "      <th>9355</th>\n",
              "      <td>04/04/2005</td>\n",
              "      <td>13.00.00</td>\n",
              "      <td>2.1</td>\n",
              "      <td>1003.0</td>\n",
              "      <td>NaN</td>\n",
              "      <td>9.5</td>\n",
              "      <td>961.0</td>\n",
              "      <td>235.0</td>\n",
              "      <td>702.0</td>\n",
              "      <td>156.0</td>\n",
              "      <td>1041.0</td>\n",
              "      <td>770.0</td>\n",
              "      <td>28.3</td>\n",
              "      <td>13.5</td>\n",
              "      <td>0.5139</td>\n",
              "    </tr>\n",
              "    <tr>\n",
              "      <th>9356</th>\n",
              "      <td>04/04/2005</td>\n",
              "      <td>14.00.00</td>\n",
              "      <td>2.2</td>\n",
              "      <td>1071.0</td>\n",
              "      <td>NaN</td>\n",
              "      <td>11.9</td>\n",
              "      <td>1047.0</td>\n",
              "      <td>265.0</td>\n",
              "      <td>654.0</td>\n",
              "      <td>168.0</td>\n",
              "      <td>1129.0</td>\n",
              "      <td>816.0</td>\n",
              "      <td>28.5</td>\n",
              "      <td>13.1</td>\n",
              "      <td>0.5028</td>\n",
              "    </tr>\n",
              "  </tbody>\n",
              "</table>\n",
              "</div>"
            ],
            "text/plain": [
              "            Date      Time  CO(GT)  ...     T    RH      AH\n",
              "9352  04/04/2005  10.00.00     3.1  ...  21.9  29.3  0.7568\n",
              "9353  04/04/2005  11.00.00     2.4  ...  24.3  23.7  0.7119\n",
              "9354  04/04/2005  12.00.00     2.4  ...  26.9  18.3  0.6406\n",
              "9355  04/04/2005  13.00.00     2.1  ...  28.3  13.5  0.5139\n",
              "9356  04/04/2005  14.00.00     2.2  ...  28.5  13.1  0.5028\n",
              "\n",
              "[5 rows x 15 columns]"
            ]
          },
          "metadata": {
            "tags": []
          },
          "execution_count": 6
        }
      ]
    },
    {
      "cell_type": "markdown",
      "metadata": {
        "id": "EoOy8hV25YjK"
      },
      "source": [
        "nous avons remplacé chaque valeur qui est égale à -200 par NaN"
      ]
    },
    {
      "cell_type": "code",
      "metadata": {
        "id": "iVN1ErtL6iwT"
      },
      "source": [
        "data.fillna(data.mean(), inplace= True)"
      ],
      "execution_count": 7,
      "outputs": []
    },
    {
      "cell_type": "markdown",
      "metadata": {
        "id": "NY4jcA72Qfee"
      },
      "source": [
        "nous avons affecter à la case qui contient NaN par la moyenne de la colonne où cette valeur se trouve."
      ]
    },
    {
      "cell_type": "code",
      "metadata": {
        "colab": {
          "base_uri": "https://localhost:8080/"
        },
        "id": "JeygYNS-B1Ir",
        "outputId": "8a3de36a-3a9d-4410-e50a-c1dd1d9cfb9b"
      },
      "source": [
        "data['Date']"
      ],
      "execution_count": 8,
      "outputs": [
        {
          "output_type": "execute_result",
          "data": {
            "text/plain": [
              "0       10/03/2004\n",
              "1       10/03/2004\n",
              "2       10/03/2004\n",
              "3       10/03/2004\n",
              "4       10/03/2004\n",
              "           ...    \n",
              "9352    04/04/2005\n",
              "9353    04/04/2005\n",
              "9354    04/04/2005\n",
              "9355    04/04/2005\n",
              "9356    04/04/2005\n",
              "Name: Date, Length: 9357, dtype: object"
            ]
          },
          "metadata": {
            "tags": []
          },
          "execution_count": 8
        }
      ]
    },
    {
      "cell_type": "code",
      "metadata": {
        "colab": {
          "base_uri": "https://localhost:8080/"
        },
        "id": "pEhTcDgOCgWC",
        "outputId": "b05ace09-5bf3-4533-80e6-1776ea1d1200"
      },
      "source": [
        "data['Time']"
      ],
      "execution_count": 9,
      "outputs": [
        {
          "output_type": "execute_result",
          "data": {
            "text/plain": [
              "0       18.00.00\n",
              "1       19.00.00\n",
              "2       20.00.00\n",
              "3       21.00.00\n",
              "4       22.00.00\n",
              "          ...   \n",
              "9352    10.00.00\n",
              "9353    11.00.00\n",
              "9354    12.00.00\n",
              "9355    13.00.00\n",
              "9356    14.00.00\n",
              "Name: Time, Length: 9357, dtype: object"
            ]
          },
          "metadata": {
            "tags": []
          },
          "execution_count": 9
        }
      ]
    },
    {
      "cell_type": "code",
      "metadata": {
        "id": "6JsDqdMLDcwb"
      },
      "source": [
        "from datetime import datetime\n",
        "Date=[]\n",
        "for i in data['Date']:\n",
        "    Date.append(datetime.strptime(i,'%d/%m/%Y'))"
      ],
      "execution_count": 10,
      "outputs": []
    },
    {
      "cell_type": "code",
      "metadata": {
        "colab": {
          "base_uri": "https://localhost:8080/"
        },
        "id": "9uKkv4pzDnFL",
        "outputId": "988d4ac8-918f-4e34-e233-540d31b81f41"
      },
      "source": [
        "data.dtypes"
      ],
      "execution_count": 11,
      "outputs": [
        {
          "output_type": "execute_result",
          "data": {
            "text/plain": [
              "Date              object\n",
              "Time              object\n",
              "CO(GT)           float64\n",
              "PT08.S1(CO)      float64\n",
              "NMHC(GT)         float64\n",
              "C6H6(GT)         float64\n",
              "PT08.S2(NMHC)    float64\n",
              "NOx(GT)          float64\n",
              "PT08.S3(NOx)     float64\n",
              "NO2(GT)          float64\n",
              "PT08.S4(NO2)     float64\n",
              "PT08.S5(O3)      float64\n",
              "T                float64\n",
              "RH               float64\n",
              "AH               float64\n",
              "dtype: object"
            ]
          },
          "metadata": {
            "tags": []
          },
          "execution_count": 11
        }
      ]
    },
    {
      "cell_type": "code",
      "metadata": {
        "id": "GaDFGr4hEDfI"
      },
      "source": [
        "Date=pd.Series(Date)\n",
        "data['Date']=pd.to_numeric(Date)"
      ],
      "execution_count": 12,
      "outputs": []
    },
    {
      "cell_type": "code",
      "metadata": {
        "colab": {
          "base_uri": "https://localhost:8080/"
        },
        "id": "13z4MAPBD4P6",
        "outputId": "33bf5259-faa0-4931-be4b-6f5d554e6b89"
      },
      "source": [
        "data['Date']=data['Date'].astype(float)\n",
        "data.dtypes"
      ],
      "execution_count": 13,
      "outputs": [
        {
          "output_type": "execute_result",
          "data": {
            "text/plain": [
              "Date             float64\n",
              "Time              object\n",
              "CO(GT)           float64\n",
              "PT08.S1(CO)      float64\n",
              "NMHC(GT)         float64\n",
              "C6H6(GT)         float64\n",
              "PT08.S2(NMHC)    float64\n",
              "NOx(GT)          float64\n",
              "PT08.S3(NOx)     float64\n",
              "NO2(GT)          float64\n",
              "PT08.S4(NO2)     float64\n",
              "PT08.S5(O3)      float64\n",
              "T                float64\n",
              "RH               float64\n",
              "AH               float64\n",
              "dtype: object"
            ]
          },
          "metadata": {
            "tags": []
          },
          "execution_count": 13
        }
      ]
    },
    {
      "cell_type": "markdown",
      "metadata": {
        "id": "q1BRZMRE6V4b"
      },
      "source": [
        "le type de la colonne Date est devenu float"
      ]
    },
    {
      "cell_type": "code",
      "metadata": {
        "colab": {
          "base_uri": "https://localhost:8080/"
        },
        "id": "slDAkLLNEpNE",
        "outputId": "85604cda-be0b-4e86-de9f-c2a7f2cbb7f8"
      },
      "source": [
        "from datetime import datetime\n",
        "Time=[]\n",
        "for i in data['Time']:\n",
        "    Time.append(datetime.strptime(i,'%H.%M.%S'))\n",
        "data.dtypes"
      ],
      "execution_count": 14,
      "outputs": [
        {
          "output_type": "execute_result",
          "data": {
            "text/plain": [
              "Date             float64\n",
              "Time              object\n",
              "CO(GT)           float64\n",
              "PT08.S1(CO)      float64\n",
              "NMHC(GT)         float64\n",
              "C6H6(GT)         float64\n",
              "PT08.S2(NMHC)    float64\n",
              "NOx(GT)          float64\n",
              "PT08.S3(NOx)     float64\n",
              "NO2(GT)          float64\n",
              "PT08.S4(NO2)     float64\n",
              "PT08.S5(O3)      float64\n",
              "T                float64\n",
              "RH               float64\n",
              "AH               float64\n",
              "dtype: object"
            ]
          },
          "metadata": {
            "tags": []
          },
          "execution_count": 14
        }
      ]
    },
    {
      "cell_type": "code",
      "metadata": {
        "id": "tXCV8tW6E4C5"
      },
      "source": [
        "Time=pd.Series(Time)\n",
        "data['Time']=pd.to_numeric(Time)"
      ],
      "execution_count": 15,
      "outputs": []
    },
    {
      "cell_type": "code",
      "metadata": {
        "colab": {
          "base_uri": "https://localhost:8080/"
        },
        "id": "f1AC1ErfE9_3",
        "outputId": "06a029a9-331e-4816-addf-8905e17add40"
      },
      "source": [
        "data['Time']=data['Time'].astype(float)\n",
        "data.dtypes"
      ],
      "execution_count": 16,
      "outputs": [
        {
          "output_type": "execute_result",
          "data": {
            "text/plain": [
              "Date             float64\n",
              "Time             float64\n",
              "CO(GT)           float64\n",
              "PT08.S1(CO)      float64\n",
              "NMHC(GT)         float64\n",
              "C6H6(GT)         float64\n",
              "PT08.S2(NMHC)    float64\n",
              "NOx(GT)          float64\n",
              "PT08.S3(NOx)     float64\n",
              "NO2(GT)          float64\n",
              "PT08.S4(NO2)     float64\n",
              "PT08.S5(O3)      float64\n",
              "T                float64\n",
              "RH               float64\n",
              "AH               float64\n",
              "dtype: object"
            ]
          },
          "metadata": {
            "tags": []
          },
          "execution_count": 16
        }
      ]
    },
    {
      "cell_type": "markdown",
      "metadata": {
        "id": "Jp_U4ny-6aIU"
      },
      "source": [
        "le type de la colonne Time est devenu float"
      ]
    },
    {
      "cell_type": "code",
      "metadata": {
        "colab": {
          "base_uri": "https://localhost:8080/",
          "height": 224
        },
        "id": "Qv29k7j53ena",
        "outputId": "c355f700-998a-4387-f155-d2e3ec735a90"
      },
      "source": [
        "data.head()"
      ],
      "execution_count": 17,
      "outputs": [
        {
          "output_type": "execute_result",
          "data": {
            "text/html": [
              "<div>\n",
              "<style scoped>\n",
              "    .dataframe tbody tr th:only-of-type {\n",
              "        vertical-align: middle;\n",
              "    }\n",
              "\n",
              "    .dataframe tbody tr th {\n",
              "        vertical-align: top;\n",
              "    }\n",
              "\n",
              "    .dataframe thead th {\n",
              "        text-align: right;\n",
              "    }\n",
              "</style>\n",
              "<table border=\"1\" class=\"dataframe\">\n",
              "  <thead>\n",
              "    <tr style=\"text-align: right;\">\n",
              "      <th></th>\n",
              "      <th>Date</th>\n",
              "      <th>Time</th>\n",
              "      <th>CO(GT)</th>\n",
              "      <th>PT08.S1(CO)</th>\n",
              "      <th>NMHC(GT)</th>\n",
              "      <th>C6H6(GT)</th>\n",
              "      <th>PT08.S2(NMHC)</th>\n",
              "      <th>NOx(GT)</th>\n",
              "      <th>PT08.S3(NOx)</th>\n",
              "      <th>NO2(GT)</th>\n",
              "      <th>PT08.S4(NO2)</th>\n",
              "      <th>PT08.S5(O3)</th>\n",
              "      <th>T</th>\n",
              "      <th>RH</th>\n",
              "      <th>AH</th>\n",
              "    </tr>\n",
              "  </thead>\n",
              "  <tbody>\n",
              "    <tr>\n",
              "      <th>0</th>\n",
              "      <td>1.078877e+18</td>\n",
              "      <td>-2.208924e+18</td>\n",
              "      <td>2.6</td>\n",
              "      <td>1360.0</td>\n",
              "      <td>150.0</td>\n",
              "      <td>11.9</td>\n",
              "      <td>1046.0</td>\n",
              "      <td>166.0</td>\n",
              "      <td>1056.0</td>\n",
              "      <td>113.0</td>\n",
              "      <td>1692.0</td>\n",
              "      <td>1268.0</td>\n",
              "      <td>13.6</td>\n",
              "      <td>48.9</td>\n",
              "      <td>0.7578</td>\n",
              "    </tr>\n",
              "    <tr>\n",
              "      <th>1</th>\n",
              "      <td>1.078877e+18</td>\n",
              "      <td>-2.208920e+18</td>\n",
              "      <td>2.0</td>\n",
              "      <td>1292.0</td>\n",
              "      <td>112.0</td>\n",
              "      <td>9.4</td>\n",
              "      <td>955.0</td>\n",
              "      <td>103.0</td>\n",
              "      <td>1174.0</td>\n",
              "      <td>92.0</td>\n",
              "      <td>1559.0</td>\n",
              "      <td>972.0</td>\n",
              "      <td>13.3</td>\n",
              "      <td>47.7</td>\n",
              "      <td>0.7255</td>\n",
              "    </tr>\n",
              "    <tr>\n",
              "      <th>2</th>\n",
              "      <td>1.078877e+18</td>\n",
              "      <td>-2.208917e+18</td>\n",
              "      <td>2.2</td>\n",
              "      <td>1402.0</td>\n",
              "      <td>88.0</td>\n",
              "      <td>9.0</td>\n",
              "      <td>939.0</td>\n",
              "      <td>131.0</td>\n",
              "      <td>1140.0</td>\n",
              "      <td>114.0</td>\n",
              "      <td>1555.0</td>\n",
              "      <td>1074.0</td>\n",
              "      <td>11.9</td>\n",
              "      <td>54.0</td>\n",
              "      <td>0.7502</td>\n",
              "    </tr>\n",
              "    <tr>\n",
              "      <th>3</th>\n",
              "      <td>1.078877e+18</td>\n",
              "      <td>-2.208913e+18</td>\n",
              "      <td>2.2</td>\n",
              "      <td>1376.0</td>\n",
              "      <td>80.0</td>\n",
              "      <td>9.2</td>\n",
              "      <td>948.0</td>\n",
              "      <td>172.0</td>\n",
              "      <td>1092.0</td>\n",
              "      <td>122.0</td>\n",
              "      <td>1584.0</td>\n",
              "      <td>1203.0</td>\n",
              "      <td>11.0</td>\n",
              "      <td>60.0</td>\n",
              "      <td>0.7867</td>\n",
              "    </tr>\n",
              "    <tr>\n",
              "      <th>4</th>\n",
              "      <td>1.078877e+18</td>\n",
              "      <td>-2.208910e+18</td>\n",
              "      <td>1.6</td>\n",
              "      <td>1272.0</td>\n",
              "      <td>51.0</td>\n",
              "      <td>6.5</td>\n",
              "      <td>836.0</td>\n",
              "      <td>131.0</td>\n",
              "      <td>1205.0</td>\n",
              "      <td>116.0</td>\n",
              "      <td>1490.0</td>\n",
              "      <td>1110.0</td>\n",
              "      <td>11.2</td>\n",
              "      <td>59.6</td>\n",
              "      <td>0.7888</td>\n",
              "    </tr>\n",
              "  </tbody>\n",
              "</table>\n",
              "</div>"
            ],
            "text/plain": [
              "           Date          Time  CO(GT)  ...     T    RH      AH\n",
              "0  1.078877e+18 -2.208924e+18     2.6  ...  13.6  48.9  0.7578\n",
              "1  1.078877e+18 -2.208920e+18     2.0  ...  13.3  47.7  0.7255\n",
              "2  1.078877e+18 -2.208917e+18     2.2  ...  11.9  54.0  0.7502\n",
              "3  1.078877e+18 -2.208913e+18     2.2  ...  11.0  60.0  0.7867\n",
              "4  1.078877e+18 -2.208910e+18     1.6  ...  11.2  59.6  0.7888\n",
              "\n",
              "[5 rows x 15 columns]"
            ]
          },
          "metadata": {
            "tags": []
          },
          "execution_count": 17
        }
      ]
    },
    {
      "cell_type": "code",
      "metadata": {
        "colab": {
          "base_uri": "https://localhost:8080/",
          "height": 1000
        },
        "id": "utXZWIeBFtGj",
        "outputId": "ab1e50d7-76b6-421e-8406-18d6fd606429"
      },
      "source": [
        "plt.figure(figsize=(14,16))\n",
        "seaborn.heatmap(data.corr(),annot=True,cmap=\"coolwarm\")"
      ],
      "execution_count": 18,
      "outputs": [
        {
          "output_type": "execute_result",
          "data": {
            "text/plain": [
              "<matplotlib.axes._subplots.AxesSubplot at 0x7fb5a8e9a810>"
            ]
          },
          "metadata": {
            "tags": []
          },
          "execution_count": 18
        },
        {
          "output_type": "display_data",
          "data": {
            "image/png": "[encoded data removed]",
            "text/plain": [
              "<Figure size 1008x1152 with 2 Axes>"
            ]
          },
          "metadata": {
            "tags": [],
            "needs_background": "light"
          }
        }
      ]
    },
    {
      "cell_type": "code",
      "metadata": {
        "id": "xwujgsS2H4d_"
      },
      "source": [
        "data.drop(['Date', 'Time'], axis=1,inplace=True)"
      ],
      "execution_count": 19,
      "outputs": []
    },
    {
      "cell_type": "markdown",
      "metadata": {
        "id": "tLTMTYzl6m0V"
      },
      "source": [
        "nous avons supprimé Date et Time parcequ'ils ont une faible corrélation avec notre target d'apres la vision de la matrice de corrélation au dessus."
      ]
    },
    {
      "cell_type": "code",
      "metadata": {
        "colab": {
          "base_uri": "https://localhost:8080/",
          "height": 224
        },
        "id": "3319NQkKMI-j",
        "outputId": "ede12b49-6340-4167-aa90-4ad8990973c2"
      },
      "source": [
        "data.head()"
      ],
      "execution_count": 20,
      "outputs": [
        {
          "output_type": "execute_result",
          "data": {
            "text/html": [
              "<div>\n",
              "<style scoped>\n",
              "    .dataframe tbody tr th:only-of-type {\n",
              "        vertical-align: middle;\n",
              "    }\n",
              "\n",
              "    .dataframe tbody tr th {\n",
              "        vertical-align: top;\n",
              "    }\n",
              "\n",
              "    .dataframe thead th {\n",
              "        text-align: right;\n",
              "    }\n",
              "</style>\n",
              "<table border=\"1\" class=\"dataframe\">\n",
              "  <thead>\n",
              "    <tr style=\"text-align: right;\">\n",
              "      <th></th>\n",
              "      <th>CO(GT)</th>\n",
              "      <th>PT08.S1(CO)</th>\n",
              "      <th>NMHC(GT)</th>\n",
              "      <th>C6H6(GT)</th>\n",
              "      <th>PT08.S2(NMHC)</th>\n",
              "      <th>NOx(GT)</th>\n",
              "      <th>PT08.S3(NOx)</th>\n",
              "      <th>NO2(GT)</th>\n",
              "      <th>PT08.S4(NO2)</th>\n",
              "      <th>PT08.S5(O3)</th>\n",
              "      <th>T</th>\n",
              "      <th>RH</th>\n",
              "      <th>AH</th>\n",
              "    </tr>\n",
              "  </thead>\n",
              "  <tbody>\n",
              "    <tr>\n",
              "      <th>0</th>\n",
              "      <td>2.6</td>\n",
              "      <td>1360.0</td>\n",
              "      <td>150.0</td>\n",
              "      <td>11.9</td>\n",
              "      <td>1046.0</td>\n",
              "      <td>166.0</td>\n",
              "      <td>1056.0</td>\n",
              "      <td>113.0</td>\n",
              "      <td>1692.0</td>\n",
              "      <td>1268.0</td>\n",
              "      <td>13.6</td>\n",
              "      <td>48.9</td>\n",
              "      <td>0.7578</td>\n",
              "    </tr>\n",
              "    <tr>\n",
              "      <th>1</th>\n",
              "      <td>2.0</td>\n",
              "      <td>1292.0</td>\n",
              "      <td>112.0</td>\n",
              "      <td>9.4</td>\n",
              "      <td>955.0</td>\n",
              "      <td>103.0</td>\n",
              "      <td>1174.0</td>\n",
              "      <td>92.0</td>\n",
              "      <td>1559.0</td>\n",
              "      <td>972.0</td>\n",
              "      <td>13.3</td>\n",
              "      <td>47.7</td>\n",
              "      <td>0.7255</td>\n",
              "    </tr>\n",
              "    <tr>\n",
              "      <th>2</th>\n",
              "      <td>2.2</td>\n",
              "      <td>1402.0</td>\n",
              "      <td>88.0</td>\n",
              "      <td>9.0</td>\n",
              "      <td>939.0</td>\n",
              "      <td>131.0</td>\n",
              "      <td>1140.0</td>\n",
              "      <td>114.0</td>\n",
              "      <td>1555.0</td>\n",
              "      <td>1074.0</td>\n",
              "      <td>11.9</td>\n",
              "      <td>54.0</td>\n",
              "      <td>0.7502</td>\n",
              "    </tr>\n",
              "    <tr>\n",
              "      <th>3</th>\n",
              "      <td>2.2</td>\n",
              "      <td>1376.0</td>\n",
              "      <td>80.0</td>\n",
              "      <td>9.2</td>\n",
              "      <td>948.0</td>\n",
              "      <td>172.0</td>\n",
              "      <td>1092.0</td>\n",
              "      <td>122.0</td>\n",
              "      <td>1584.0</td>\n",
              "      <td>1203.0</td>\n",
              "      <td>11.0</td>\n",
              "      <td>60.0</td>\n",
              "      <td>0.7867</td>\n",
              "    </tr>\n",
              "    <tr>\n",
              "      <th>4</th>\n",
              "      <td>1.6</td>\n",
              "      <td>1272.0</td>\n",
              "      <td>51.0</td>\n",
              "      <td>6.5</td>\n",
              "      <td>836.0</td>\n",
              "      <td>131.0</td>\n",
              "      <td>1205.0</td>\n",
              "      <td>116.0</td>\n",
              "      <td>1490.0</td>\n",
              "      <td>1110.0</td>\n",
              "      <td>11.2</td>\n",
              "      <td>59.6</td>\n",
              "      <td>0.7888</td>\n",
              "    </tr>\n",
              "  </tbody>\n",
              "</table>\n",
              "</div>"
            ],
            "text/plain": [
              "   CO(GT)  PT08.S1(CO)  NMHC(GT)  C6H6(GT)  ...  PT08.S5(O3)     T    RH      AH\n",
              "0     2.6       1360.0     150.0      11.9  ...       1268.0  13.6  48.9  0.7578\n",
              "1     2.0       1292.0     112.0       9.4  ...        972.0  13.3  47.7  0.7255\n",
              "2     2.2       1402.0      88.0       9.0  ...       1074.0  11.9  54.0  0.7502\n",
              "3     2.2       1376.0      80.0       9.2  ...       1203.0  11.0  60.0  0.7867\n",
              "4     1.6       1272.0      51.0       6.5  ...       1110.0  11.2  59.6  0.7888\n",
              "\n",
              "[5 rows x 13 columns]"
            ]
          },
          "metadata": {
            "tags": []
          },
          "execution_count": 20
        }
      ]
    },
    {
      "cell_type": "code",
      "metadata": {
        "colab": {
          "base_uri": "https://localhost:8080/",
          "height": 204
        },
        "id": "bdrPB7ckt6tr",
        "outputId": "9bb265b8-c9f3-4335-9a0f-a2e64f13563e"
      },
      "source": [
        "data.drop('T',axis=1,inplace=True)\n",
        "data.drop('RH',axis=1,inplace=True)\n",
        "data.drop('AH',axis=1,inplace=True)\n",
        "data.drop('NMHC(GT)',axis=1,inplace=True)\n",
        "data.head()"
      ],
      "execution_count": 21,
      "outputs": [
        {
          "output_type": "execute_result",
          "data": {
            "text/html": [
              "<div>\n",
              "<style scoped>\n",
              "    .dataframe tbody tr th:only-of-type {\n",
              "        vertical-align: middle;\n",
              "    }\n",
              "\n",
              "    .dataframe tbody tr th {\n",
              "        vertical-align: top;\n",
              "    }\n",
              "\n",
              "    .dataframe thead th {\n",
              "        text-align: right;\n",
              "    }\n",
              "</style>\n",
              "<table border=\"1\" class=\"dataframe\">\n",
              "  <thead>\n",
              "    <tr style=\"text-align: right;\">\n",
              "      <th></th>\n",
              "      <th>CO(GT)</th>\n",
              "      <th>PT08.S1(CO)</th>\n",
              "      <th>C6H6(GT)</th>\n",
              "      <th>PT08.S2(NMHC)</th>\n",
              "      <th>NOx(GT)</th>\n",
              "      <th>PT08.S3(NOx)</th>\n",
              "      <th>NO2(GT)</th>\n",
              "      <th>PT08.S4(NO2)</th>\n",
              "      <th>PT08.S5(O3)</th>\n",
              "    </tr>\n",
              "  </thead>\n",
              "  <tbody>\n",
              "    <tr>\n",
              "      <th>0</th>\n",
              "      <td>2.6</td>\n",
              "      <td>1360.0</td>\n",
              "      <td>11.9</td>\n",
              "      <td>1046.0</td>\n",
              "      <td>166.0</td>\n",
              "      <td>1056.0</td>\n",
              "      <td>113.0</td>\n",
              "      <td>1692.0</td>\n",
              "      <td>1268.0</td>\n",
              "    </tr>\n",
              "    <tr>\n",
              "      <th>1</th>\n",
              "      <td>2.0</td>\n",
              "      <td>1292.0</td>\n",
              "      <td>9.4</td>\n",
              "      <td>955.0</td>\n",
              "      <td>103.0</td>\n",
              "      <td>1174.0</td>\n",
              "      <td>92.0</td>\n",
              "      <td>1559.0</td>\n",
              "      <td>972.0</td>\n",
              "    </tr>\n",
              "    <tr>\n",
              "      <th>2</th>\n",
              "      <td>2.2</td>\n",
              "      <td>1402.0</td>\n",
              "      <td>9.0</td>\n",
              "      <td>939.0</td>\n",
              "      <td>131.0</td>\n",
              "      <td>1140.0</td>\n",
              "      <td>114.0</td>\n",
              "      <td>1555.0</td>\n",
              "      <td>1074.0</td>\n",
              "    </tr>\n",
              "    <tr>\n",
              "      <th>3</th>\n",
              "      <td>2.2</td>\n",
              "      <td>1376.0</td>\n",
              "      <td>9.2</td>\n",
              "      <td>948.0</td>\n",
              "      <td>172.0</td>\n",
              "      <td>1092.0</td>\n",
              "      <td>122.0</td>\n",
              "      <td>1584.0</td>\n",
              "      <td>1203.0</td>\n",
              "    </tr>\n",
              "    <tr>\n",
              "      <th>4</th>\n",
              "      <td>1.6</td>\n",
              "      <td>1272.0</td>\n",
              "      <td>6.5</td>\n",
              "      <td>836.0</td>\n",
              "      <td>131.0</td>\n",
              "      <td>1205.0</td>\n",
              "      <td>116.0</td>\n",
              "      <td>1490.0</td>\n",
              "      <td>1110.0</td>\n",
              "    </tr>\n",
              "  </tbody>\n",
              "</table>\n",
              "</div>"
            ],
            "text/plain": [
              "   CO(GT)  PT08.S1(CO)  C6H6(GT)  ...  NO2(GT)  PT08.S4(NO2)  PT08.S5(O3)\n",
              "0     2.6       1360.0      11.9  ...    113.0        1692.0       1268.0\n",
              "1     2.0       1292.0       9.4  ...     92.0        1559.0        972.0\n",
              "2     2.2       1402.0       9.0  ...    114.0        1555.0       1074.0\n",
              "3     2.2       1376.0       9.2  ...    122.0        1584.0       1203.0\n",
              "4     1.6       1272.0       6.5  ...    116.0        1490.0       1110.0\n",
              "\n",
              "[5 rows x 9 columns]"
            ]
          },
          "metadata": {
            "tags": []
          },
          "execution_count": 21
        }
      ]
    },
    {
      "cell_type": "markdown",
      "metadata": {
        "id": "vZpkhLAi7A27"
      },
      "source": [
        "nous avons supprimé ces colonnes parcequ'ils ont une faible corrélation avec notre target"
      ]
    },
    {
      "cell_type": "markdown",
      "metadata": {
        "id": "QXz_uIsqvEJ_"
      },
      "source": [
        "**Linear Regression**"
      ]
    },
    {
      "cell_type": "code",
      "metadata": {
        "id": "RbdqzPy067LU"
      },
      "source": [
        "features=data.columns.drop(\"C6H6(GT)\")\n",
        "y=data['C6H6(GT)']\n",
        "x=data[features]\n"
      ],
      "execution_count": 22,
      "outputs": []
    },
    {
      "cell_type": "markdown",
      "metadata": {
        "id": "EYkGfirK7XM6"
      },
      "source": [
        "\n",
        "\n",
        "*   target y contient la colonne C6H6\n",
        "*   features x contient toutes les colonnes et ne contient pas la colonne qui represente target.\n",
        "\n"
      ]
    },
    {
      "cell_type": "code",
      "metadata": {
        "id": "EGkW7lfp6_OW"
      },
      "source": [
        "from sklearn.model_selection import train_test_split\n",
        "x_training,x_test,y_training,y_test=train_test_split(x,y,test_size=0.3, random_state=0)"
      ],
      "execution_count": 23,
      "outputs": []
    },
    {
      "cell_type": "code",
      "metadata": {
        "colab": {
          "base_uri": "https://localhost:8080/"
        },
        "id": "kBMOnUqc7CS0",
        "outputId": "2412684c-dd17-494e-c437-b572fd5018cf"
      },
      "source": [
        "from sklearn.linear_model import LinearRegression \n",
        "lr=LinearRegression()\n",
        "lr.fit(x_training,y_training)"
      ],
      "execution_count": 24,
      "outputs": [
        {
          "output_type": "execute_result",
          "data": {
            "text/plain": [
              "LinearRegression(copy_X=True, fit_intercept=True, n_jobs=None, normalize=False)"
            ]
          },
          "metadata": {
            "tags": []
          },
          "execution_count": 24
        }
      ]
    },
    {
      "cell_type": "code",
      "metadata": {
        "colab": {
          "base_uri": "https://localhost:8080/"
        },
        "id": "X0UavRx77FZx",
        "outputId": "856dd76f-ac62-4160-be5a-7c7d87d521de"
      },
      "source": [
        "y_prediction=lr.predict(x_test)\n",
        "print(y_prediction)"
      ],
      "execution_count": 25,
      "outputs": [
        {
          "output_type": "stream",
          "text": [
            "[ 5.8586366  -0.64145436  1.47202755 ...  2.0612878   8.84752496\n",
            "  6.84254088]\n"
          ],
          "name": "stdout"
        }
      ]
    },
    {
      "cell_type": "code",
      "metadata": {
        "colab": {
          "base_uri": "https://localhost:8080/"
        },
        "id": "vc7RxOkx7FdF",
        "outputId": "c1c4e780-63ac-4285-f710-61f168cd0607"
      },
      "source": [
        "lr.predict([[2.6,1360.0,1046.0,166.0,1056.0,113.0,1692.0,1268.0]])"
      ],
      "execution_count": 26,
      "outputs": [
        {
          "output_type": "execute_result",
          "data": {
            "text/plain": [
              "array([14.25935436])"
            ]
          },
          "metadata": {
            "tags": []
          },
          "execution_count": 26
        }
      ]
    },
    {
      "cell_type": "code",
      "metadata": {
        "colab": {
          "base_uri": "https://localhost:8080/"
        },
        "id": "k0BI6cPs7FhG",
        "outputId": "cb97422e-6233-4f06-f079-7ad5b5f45e9c"
      },
      "source": [
        "from sklearn.metrics import r2_score\n",
        "r2_score(y_test,y_prediction)"
      ],
      "execution_count": 27,
      "outputs": [
        {
          "output_type": "execute_result",
          "data": {
            "text/plain": [
              "0.9765923503231557"
            ]
          },
          "metadata": {
            "tags": []
          },
          "execution_count": 27
        }
      ]
    },
    {
      "cell_type": "code",
      "metadata": {
        "colab": {
          "base_uri": "https://localhost:8080/",
          "height": 592
        },
        "id": "1gobkylL7N_v",
        "outputId": "9984f163-a89d-402b-80db-fbd786cfbcec"
      },
      "source": [
        "plt.figure(figsize=(12,10))\n",
        "plt.scatter(y_test,y_prediction) \n",
        "plt.show()"
      ],
      "execution_count": 28,
      "outputs": [
        {
          "output_type": "display_data",
          "data": {
            "image/png": "[encoded data removed]",
            "text/plain": [
              "<Figure size 864x720 with 1 Axes>"
            ]
          },
          "metadata": {
            "tags": [],
            "needs_background": "light"
          }
        }
      ]
    },
    {
      "cell_type": "code",
      "metadata": {
        "colab": {
          "base_uri": "https://localhost:8080/",
          "height": 824
        },
        "id": "CsKC19dg-vGU",
        "outputId": "f68844cb-ab09-49a9-872f-32af994fcd44"
      },
      "source": [
        "prediction_y_data=pd.DataFrame({'actual_value':y_test,'predicted_value':y_prediction,'difference':y_test-y_prediction})\n",
        "prediction_y_data[5:30]"
      ],
      "execution_count": 29,
      "outputs": [
        {
          "output_type": "execute_result",
          "data": {
            "text/html": [
              "<div>\n",
              "<style scoped>\n",
              "    .dataframe tbody tr th:only-of-type {\n",
              "        vertical-align: middle;\n",
              "    }\n",
              "\n",
              "    .dataframe tbody tr th {\n",
              "        vertical-align: top;\n",
              "    }\n",
              "\n",
              "    .dataframe thead th {\n",
              "        text-align: right;\n",
              "    }\n",
              "</style>\n",
              "<table border=\"1\" class=\"dataframe\">\n",
              "  <thead>\n",
              "    <tr style=\"text-align: right;\">\n",
              "      <th></th>\n",
              "      <th>actual_value</th>\n",
              "      <th>predicted_value</th>\n",
              "      <th>difference</th>\n",
              "    </tr>\n",
              "  </thead>\n",
              "  <tbody>\n",
              "    <tr>\n",
              "      <th>1651</th>\n",
              "      <td>17.0</td>\n",
              "      <td>17.419078</td>\n",
              "      <td>-0.419078</td>\n",
              "    </tr>\n",
              "    <tr>\n",
              "      <th>6040</th>\n",
              "      <td>14.6</td>\n",
              "      <td>15.212166</td>\n",
              "      <td>-0.612166</td>\n",
              "    </tr>\n",
              "    <tr>\n",
              "      <th>3480</th>\n",
              "      <td>13.7</td>\n",
              "      <td>13.094245</td>\n",
              "      <td>0.605755</td>\n",
              "    </tr>\n",
              "    <tr>\n",
              "      <th>390</th>\n",
              "      <td>5.2</td>\n",
              "      <td>6.284563</td>\n",
              "      <td>-1.084563</td>\n",
              "    </tr>\n",
              "    <tr>\n",
              "      <th>3380</th>\n",
              "      <td>7.1</td>\n",
              "      <td>7.540067</td>\n",
              "      <td>-0.440067</td>\n",
              "    </tr>\n",
              "    <tr>\n",
              "      <th>9002</th>\n",
              "      <td>14.8</td>\n",
              "      <td>15.642273</td>\n",
              "      <td>-0.842273</td>\n",
              "    </tr>\n",
              "    <tr>\n",
              "      <th>6030</th>\n",
              "      <td>5.0</td>\n",
              "      <td>5.206292</td>\n",
              "      <td>-0.206292</td>\n",
              "    </tr>\n",
              "    <tr>\n",
              "      <th>9198</th>\n",
              "      <td>5.0</td>\n",
              "      <td>4.474921</td>\n",
              "      <td>0.525079</td>\n",
              "    </tr>\n",
              "    <tr>\n",
              "      <th>5110</th>\n",
              "      <td>14.2</td>\n",
              "      <td>15.036475</td>\n",
              "      <td>-0.836475</td>\n",
              "    </tr>\n",
              "    <tr>\n",
              "      <th>4320</th>\n",
              "      <td>13.5</td>\n",
              "      <td>14.092861</td>\n",
              "      <td>-0.592861</td>\n",
              "    </tr>\n",
              "    <tr>\n",
              "      <th>9356</th>\n",
              "      <td>11.9</td>\n",
              "      <td>11.898862</td>\n",
              "      <td>0.001138</td>\n",
              "    </tr>\n",
              "    <tr>\n",
              "      <th>5742</th>\n",
              "      <td>8.8</td>\n",
              "      <td>9.536513</td>\n",
              "      <td>-0.736513</td>\n",
              "    </tr>\n",
              "    <tr>\n",
              "      <th>5274</th>\n",
              "      <td>7.0</td>\n",
              "      <td>7.677578</td>\n",
              "      <td>-0.677578</td>\n",
              "    </tr>\n",
              "    <tr>\n",
              "      <th>1768</th>\n",
              "      <td>4.1</td>\n",
              "      <td>4.455363</td>\n",
              "      <td>-0.355363</td>\n",
              "    </tr>\n",
              "    <tr>\n",
              "      <th>6455</th>\n",
              "      <td>8.3</td>\n",
              "      <td>9.426764</td>\n",
              "      <td>-1.126764</td>\n",
              "    </tr>\n",
              "    <tr>\n",
              "      <th>9313</th>\n",
              "      <td>3.5</td>\n",
              "      <td>2.271765</td>\n",
              "      <td>1.228235</td>\n",
              "    </tr>\n",
              "    <tr>\n",
              "      <th>2075</th>\n",
              "      <td>4.9</td>\n",
              "      <td>5.027605</td>\n",
              "      <td>-0.127605</td>\n",
              "    </tr>\n",
              "    <tr>\n",
              "      <th>7707</th>\n",
              "      <td>2.8</td>\n",
              "      <td>1.242761</td>\n",
              "      <td>1.557239</td>\n",
              "    </tr>\n",
              "    <tr>\n",
              "      <th>6679</th>\n",
              "      <td>9.9</td>\n",
              "      <td>11.071071</td>\n",
              "      <td>-1.171071</td>\n",
              "    </tr>\n",
              "    <tr>\n",
              "      <th>5364</th>\n",
              "      <td>13.1</td>\n",
              "      <td>13.432212</td>\n",
              "      <td>-0.332212</td>\n",
              "    </tr>\n",
              "    <tr>\n",
              "      <th>1051</th>\n",
              "      <td>18.9</td>\n",
              "      <td>19.022999</td>\n",
              "      <td>-0.122999</td>\n",
              "    </tr>\n",
              "    <tr>\n",
              "      <th>5138</th>\n",
              "      <td>8.1</td>\n",
              "      <td>8.976355</td>\n",
              "      <td>-0.876355</td>\n",
              "    </tr>\n",
              "    <tr>\n",
              "      <th>1691</th>\n",
              "      <td>2.3</td>\n",
              "      <td>1.530219</td>\n",
              "      <td>0.769781</td>\n",
              "    </tr>\n",
              "    <tr>\n",
              "      <th>3269</th>\n",
              "      <td>7.1</td>\n",
              "      <td>7.299595</td>\n",
              "      <td>-0.199595</td>\n",
              "    </tr>\n",
              "    <tr>\n",
              "      <th>4794</th>\n",
              "      <td>3.6</td>\n",
              "      <td>3.749401</td>\n",
              "      <td>-0.149401</td>\n",
              "    </tr>\n",
              "  </tbody>\n",
              "</table>\n",
              "</div>"
            ],
            "text/plain": [
              "      actual_value  predicted_value  difference\n",
              "1651          17.0        17.419078   -0.419078\n",
              "6040          14.6        15.212166   -0.612166\n",
              "3480          13.7        13.094245    0.605755\n",
              "390            5.2         6.284563   -1.084563\n",
              "3380           7.1         7.540067   -0.440067\n",
              "9002          14.8        15.642273   -0.842273\n",
              "6030           5.0         5.206292   -0.206292\n",
              "9198           5.0         4.474921    0.525079\n",
              "5110          14.2        15.036475   -0.836475\n",
              "4320          13.5        14.092861   -0.592861\n",
              "9356          11.9        11.898862    0.001138\n",
              "5742           8.8         9.536513   -0.736513\n",
              "5274           7.0         7.677578   -0.677578\n",
              "1768           4.1         4.455363   -0.355363\n",
              "6455           8.3         9.426764   -1.126764\n",
              "9313           3.5         2.271765    1.228235\n",
              "2075           4.9         5.027605   -0.127605\n",
              "7707           2.8         1.242761    1.557239\n",
              "6679           9.9        11.071071   -1.171071\n",
              "5364          13.1        13.432212   -0.332212\n",
              "1051          18.9        19.022999   -0.122999\n",
              "5138           8.1         8.976355   -0.876355\n",
              "1691           2.3         1.530219    0.769781\n",
              "3269           7.1         7.299595   -0.199595\n",
              "4794           3.6         3.749401   -0.149401"
            ]
          },
          "metadata": {
            "tags": []
          },
          "execution_count": 29
        }
      ]
    },
    {
      "cell_type": "code",
      "metadata": {
        "colab": {
          "base_uri": "https://localhost:8080/"
        },
        "id": "6agHh8QmK6Pi",
        "outputId": "cbdacda1-3b28-4f1a-b48f-2749479953b7"
      },
      "source": [
        "from sklearn.metrics import mean_squared_error\n",
        "rmse=np.sqrt(mean_squared_error(y_test,y_prediction))      #calculate rmse\n",
        "print('Baseline RMSE of model:',rmse)"
      ],
      "execution_count": 30,
      "outputs": [
        {
          "output_type": "stream",
          "text": [
            "Baseline RMSE of model: 1.0907187408338643\n"
          ],
          "name": "stdout"
        }
      ]
    },
    {
      "cell_type": "code",
      "metadata": {
        "colab": {
          "base_uri": "https://localhost:8080/"
        },
        "id": "L2Ej5CjRR6No",
        "outputId": "cd2363d0-2c82-433e-9799-ac9b49f1d696"
      },
      "source": [
        "#evaluation du modele pour training set\n",
        "from sklearn.metrics import r2_score\n",
        "y_training_predict=lr.predict(x_training)\n",
        "rmse=(np.sqrt(mean_squared_error(y_training,y_training_predict)))\n",
        "r2=r2_score(y_training,y_training_predict)\n",
        "print('la performance du modele sur la base')\n",
        "print('---------------------------')\n",
        "print('l erreur quadratique moyenne est {}'.format(rmse))\n",
        "print('le score R2 est {}'.format(r2))\n",
        "print('\\n')"
      ],
      "execution_count": 31,
      "outputs": [
        {
          "output_type": "stream",
          "text": [
            "la performance du modele sur la base\n",
            "---------------------------\n",
            "l erreur quadratique moyenne est 1.1839572041232573\n",
            "le score R2 est 0.9742295611117827\n",
            "\n",
            "\n"
          ],
          "name": "stdout"
        }
      ]
    },
    {
      "cell_type": "code",
      "metadata": {
        "colab": {
          "base_uri": "https://localhost:8080/"
        },
        "id": "UvQkxhHrfqeb",
        "outputId": "1d4d7d19-db0d-44c6-be37-6b949c2f5242"
      },
      "source": [
        "##evaluation du modele pour testing set\n",
        "from sklearn.metrics import r2_score\n",
        "y_testing_predict=lr.predict(x_test)\n",
        "rmsel=(np.sqrt(mean_squared_error(y_test,y_testing_predict)))\n",
        "r2=r2_score(y_test,y_testing_predict)\n",
        "print('la performance du modele sur la base')\n",
        "print('---------------------------')\n",
        "print('l erreur quadratique moyenne est {}'.format(rmsel))\n",
        "print('le score R2 est {}'.format(r2))\n",
        "print('\\n')"
      ],
      "execution_count": 32,
      "outputs": [
        {
          "output_type": "stream",
          "text": [
            "la performance du modele sur la base\n",
            "---------------------------\n",
            "l erreur quadratique moyenne est 1.0907187408338643\n",
            "le score R2 est 0.9765923503231557\n",
            "\n",
            "\n"
          ],
          "name": "stdout"
        }
      ]
    },
    {
      "cell_type": "markdown",
      "metadata": {
        "id": "ABbBiq6jz2Yb"
      },
      "source": [
        "**Decision Tree Regressor**"
      ]
    },
    {
      "cell_type": "code",
      "metadata": {
        "colab": {
          "base_uri": "https://localhost:8080/"
        },
        "id": "RSOD2Pgs7Vj9",
        "outputId": "cba6a8d4-8ab1-429e-ca23-75e5470253a9"
      },
      "source": [
        "from sklearn.tree import DecisionTreeRegressor\n",
        "dtr=DecisionTreeRegressor()\n",
        "dtr.fit(x_training,y_training)\n"
      ],
      "execution_count": 33,
      "outputs": [
        {
          "output_type": "execute_result",
          "data": {
            "text/plain": [
              "DecisionTreeRegressor(ccp_alpha=0.0, criterion='mse', max_depth=None,\n",
              "                      max_features=None, max_leaf_nodes=None,\n",
              "                      min_impurity_decrease=0.0, min_impurity_split=None,\n",
              "                      min_samples_leaf=1, min_samples_split=2,\n",
              "                      min_weight_fraction_leaf=0.0, presort='deprecated',\n",
              "                      random_state=None, splitter='best')"
            ]
          },
          "metadata": {
            "tags": []
          },
          "execution_count": 33
        }
      ]
    },
    {
      "cell_type": "code",
      "metadata": {
        "colab": {
          "base_uri": "https://localhost:8080/"
        },
        "id": "1-8yAK828JVR",
        "outputId": "e41f2118-ec31-4de1-b512-ff113a9534cc"
      },
      "source": [
        "y_prediction=dtr.predict(x_test)\n",
        "print(y_prediction)"
      ],
      "execution_count": 34,
      "outputs": [
        {
          "output_type": "stream",
          "text": [
            "[5.2 1.6 2.4 ... 2.4 7.6 5.7]\n"
          ],
          "name": "stdout"
        }
      ]
    },
    {
      "cell_type": "code",
      "metadata": {
        "colab": {
          "base_uri": "https://localhost:8080/"
        },
        "id": "9bxlW3MJ7aa9",
        "outputId": "106689ba-4448-4c63-af37-9ab5e2670395"
      },
      "source": [
        "dtr.predict([[2.6,1360.0,1046.0,166.0,1056.0,113.0,1692.0,1268.0]])"
      ],
      "execution_count": 35,
      "outputs": [
        {
          "output_type": "execute_result",
          "data": {
            "text/plain": [
              "array([11.9])"
            ]
          },
          "metadata": {
            "tags": []
          },
          "execution_count": 35
        }
      ]
    },
    {
      "cell_type": "code",
      "metadata": {
        "colab": {
          "base_uri": "https://localhost:8080/"
        },
        "id": "DyoiX0D89C7u",
        "outputId": "47b63ae4-490e-4103-cca4-819d195c34a4"
      },
      "source": [
        "from sklearn.metrics import r2_score\n",
        "r2_score(y_test,y_prediction)"
      ],
      "execution_count": 36,
      "outputs": [
        {
          "output_type": "execute_result",
          "data": {
            "text/plain": [
              "0.9999046340629878"
            ]
          },
          "metadata": {
            "tags": []
          },
          "execution_count": 36
        }
      ]
    },
    {
      "cell_type": "code",
      "metadata": {
        "colab": {
          "base_uri": "https://localhost:8080/",
          "height": 592
        },
        "id": "DbhmxZHA7iOj",
        "outputId": "f19d0340-5e86-44eb-9cdc-86ec4d5af444"
      },
      "source": [
        "plt.figure(figsize=(12,10))\n",
        "plt.plot(y_test,y_prediction,'o')\n",
        "plt.show()"
      ],
      "execution_count": 37,
      "outputs": [
        {
          "output_type": "display_data",
          "data": {
            "image/png": "[encoded data removed]",
            "text/plain": [
              "<Figure size 864x720 with 1 Axes>"
            ]
          },
          "metadata": {
            "tags": [],
            "needs_background": "light"
          }
        }
      ]
    },
    {
      "cell_type": "code",
      "metadata": {
        "colab": {
          "base_uri": "https://localhost:8080/",
          "height": 824
        },
        "id": "IOBTZFPMAFYY",
        "outputId": "4c2a10df-6bd0-4c67-ca99-d6bee6688e74"
      },
      "source": [
        "prediction_y_data=pd.DataFrame({'actual value':y_test,'predicted_value':y_prediction,'difference':y_test-y_prediction})\n",
        "prediction_y_data[5:30]"
      ],
      "execution_count": 38,
      "outputs": [
        {
          "output_type": "execute_result",
          "data": {
            "text/html": [
              "<div>\n",
              "<style scoped>\n",
              "    .dataframe tbody tr th:only-of-type {\n",
              "        vertical-align: middle;\n",
              "    }\n",
              "\n",
              "    .dataframe tbody tr th {\n",
              "        vertical-align: top;\n",
              "    }\n",
              "\n",
              "    .dataframe thead th {\n",
              "        text-align: right;\n",
              "    }\n",
              "</style>\n",
              "<table border=\"1\" class=\"dataframe\">\n",
              "  <thead>\n",
              "    <tr style=\"text-align: right;\">\n",
              "      <th></th>\n",
              "      <th>actual value</th>\n",
              "      <th>predicted_value</th>\n",
              "      <th>difference</th>\n",
              "    </tr>\n",
              "  </thead>\n",
              "  <tbody>\n",
              "    <tr>\n",
              "      <th>1651</th>\n",
              "      <td>17.0</td>\n",
              "      <td>17.0</td>\n",
              "      <td>0.000000e+00</td>\n",
              "    </tr>\n",
              "    <tr>\n",
              "      <th>6040</th>\n",
              "      <td>14.6</td>\n",
              "      <td>14.6</td>\n",
              "      <td>-3.552714e-15</td>\n",
              "    </tr>\n",
              "    <tr>\n",
              "      <th>3480</th>\n",
              "      <td>13.7</td>\n",
              "      <td>13.7</td>\n",
              "      <td>5.329071e-15</td>\n",
              "    </tr>\n",
              "    <tr>\n",
              "      <th>390</th>\n",
              "      <td>5.2</td>\n",
              "      <td>5.3</td>\n",
              "      <td>-1.000000e-01</td>\n",
              "    </tr>\n",
              "    <tr>\n",
              "      <th>3380</th>\n",
              "      <td>7.1</td>\n",
              "      <td>7.1</td>\n",
              "      <td>3.552714e-15</td>\n",
              "    </tr>\n",
              "    <tr>\n",
              "      <th>9002</th>\n",
              "      <td>14.8</td>\n",
              "      <td>14.8</td>\n",
              "      <td>-3.552714e-15</td>\n",
              "    </tr>\n",
              "    <tr>\n",
              "      <th>6030</th>\n",
              "      <td>5.0</td>\n",
              "      <td>5.0</td>\n",
              "      <td>0.000000e+00</td>\n",
              "    </tr>\n",
              "    <tr>\n",
              "      <th>9198</th>\n",
              "      <td>5.0</td>\n",
              "      <td>5.1</td>\n",
              "      <td>-1.000000e-01</td>\n",
              "    </tr>\n",
              "    <tr>\n",
              "      <th>5110</th>\n",
              "      <td>14.2</td>\n",
              "      <td>14.2</td>\n",
              "      <td>5.329071e-15</td>\n",
              "    </tr>\n",
              "    <tr>\n",
              "      <th>4320</th>\n",
              "      <td>13.5</td>\n",
              "      <td>13.5</td>\n",
              "      <td>0.000000e+00</td>\n",
              "    </tr>\n",
              "    <tr>\n",
              "      <th>9356</th>\n",
              "      <td>11.9</td>\n",
              "      <td>11.9</td>\n",
              "      <td>1.776357e-15</td>\n",
              "    </tr>\n",
              "    <tr>\n",
              "      <th>5742</th>\n",
              "      <td>8.8</td>\n",
              "      <td>8.8</td>\n",
              "      <td>-3.552714e-15</td>\n",
              "    </tr>\n",
              "    <tr>\n",
              "      <th>5274</th>\n",
              "      <td>7.0</td>\n",
              "      <td>7.0</td>\n",
              "      <td>0.000000e+00</td>\n",
              "    </tr>\n",
              "    <tr>\n",
              "      <th>1768</th>\n",
              "      <td>4.1</td>\n",
              "      <td>4.1</td>\n",
              "      <td>2.664535e-15</td>\n",
              "    </tr>\n",
              "    <tr>\n",
              "      <th>6455</th>\n",
              "      <td>8.3</td>\n",
              "      <td>8.3</td>\n",
              "      <td>-3.552714e-15</td>\n",
              "    </tr>\n",
              "    <tr>\n",
              "      <th>9313</th>\n",
              "      <td>3.5</td>\n",
              "      <td>3.5</td>\n",
              "      <td>0.000000e+00</td>\n",
              "    </tr>\n",
              "    <tr>\n",
              "      <th>2075</th>\n",
              "      <td>4.9</td>\n",
              "      <td>4.9</td>\n",
              "      <td>-8.881784e-16</td>\n",
              "    </tr>\n",
              "    <tr>\n",
              "      <th>7707</th>\n",
              "      <td>2.8</td>\n",
              "      <td>2.8</td>\n",
              "      <td>0.000000e+00</td>\n",
              "    </tr>\n",
              "    <tr>\n",
              "      <th>6679</th>\n",
              "      <td>9.9</td>\n",
              "      <td>9.9</td>\n",
              "      <td>-3.552714e-15</td>\n",
              "    </tr>\n",
              "    <tr>\n",
              "      <th>5364</th>\n",
              "      <td>13.1</td>\n",
              "      <td>13.1</td>\n",
              "      <td>1.776357e-15</td>\n",
              "    </tr>\n",
              "    <tr>\n",
              "      <th>1051</th>\n",
              "      <td>18.9</td>\n",
              "      <td>18.9</td>\n",
              "      <td>-3.552714e-15</td>\n",
              "    </tr>\n",
              "    <tr>\n",
              "      <th>5138</th>\n",
              "      <td>8.1</td>\n",
              "      <td>8.1</td>\n",
              "      <td>3.552714e-15</td>\n",
              "    </tr>\n",
              "    <tr>\n",
              "      <th>1691</th>\n",
              "      <td>2.3</td>\n",
              "      <td>2.3</td>\n",
              "      <td>0.000000e+00</td>\n",
              "    </tr>\n",
              "    <tr>\n",
              "      <th>3269</th>\n",
              "      <td>7.1</td>\n",
              "      <td>7.0</td>\n",
              "      <td>1.000000e-01</td>\n",
              "    </tr>\n",
              "    <tr>\n",
              "      <th>4794</th>\n",
              "      <td>3.6</td>\n",
              "      <td>3.6</td>\n",
              "      <td>3.552714e-15</td>\n",
              "    </tr>\n",
              "  </tbody>\n",
              "</table>\n",
              "</div>"
            ],
            "text/plain": [
              "      actual value  predicted_value    difference\n",
              "1651          17.0             17.0  0.000000e+00\n",
              "6040          14.6             14.6 -3.552714e-15\n",
              "3480          13.7             13.7  5.329071e-15\n",
              "390            5.2              5.3 -1.000000e-01\n",
              "3380           7.1              7.1  3.552714e-15\n",
              "9002          14.8             14.8 -3.552714e-15\n",
              "6030           5.0              5.0  0.000000e+00\n",
              "9198           5.0              5.1 -1.000000e-01\n",
              "5110          14.2             14.2  5.329071e-15\n",
              "4320          13.5             13.5  0.000000e+00\n",
              "9356          11.9             11.9  1.776357e-15\n",
              "5742           8.8              8.8 -3.552714e-15\n",
              "5274           7.0              7.0  0.000000e+00\n",
              "1768           4.1              4.1  2.664535e-15\n",
              "6455           8.3              8.3 -3.552714e-15\n",
              "9313           3.5              3.5  0.000000e+00\n",
              "2075           4.9              4.9 -8.881784e-16\n",
              "7707           2.8              2.8  0.000000e+00\n",
              "6679           9.9              9.9 -3.552714e-15\n",
              "5364          13.1             13.1  1.776357e-15\n",
              "1051          18.9             18.9 -3.552714e-15\n",
              "5138           8.1              8.1  3.552714e-15\n",
              "1691           2.3              2.3  0.000000e+00\n",
              "3269           7.1              7.0  1.000000e-01\n",
              "4794           3.6              3.6  3.552714e-15"
            ]
          },
          "metadata": {
            "tags": []
          },
          "execution_count": 38
        }
      ]
    },
    {
      "cell_type": "code",
      "metadata": {
        "colab": {
          "base_uri": "https://localhost:8080/"
        },
        "id": "JEX39LYkQmbo",
        "outputId": "303cc367-78e9-49e9-bedd-50a531163583"
      },
      "source": [
        "from sklearn.metrics import mean_squared_error\n",
        "rmse=np.sqrt(mean_squared_error(y_test,y_prediction))      #calculate rmse\n",
        "print('Baseline RMSE of model:',rmse)"
      ],
      "execution_count": 39,
      "outputs": [
        {
          "output_type": "stream",
          "text": [
            "Baseline RMSE of model: 0.0696194376368131\n"
          ],
          "name": "stdout"
        }
      ]
    },
    {
      "cell_type": "code",
      "metadata": {
        "colab": {
          "base_uri": "https://localhost:8080/"
        },
        "id": "GQ00S0SVs1v-",
        "outputId": "ed01c163-27f2-49ac-bb81-e876a4c4e210"
      },
      "source": [
        "#evaluation du modele pour training set\n",
        "from sklearn.metrics import r2_score\n",
        "y_training_predict=dtr.predict(x_training)\n",
        "rmse=(np.sqrt(mean_squared_error(y_training,y_training_predict)))\n",
        "r2=r2_score(y_training,y_training_predict)\n",
        "print('la performance du modele sur la base')\n",
        "print('---------------------------')\n",
        "print('l erreur quadratique moyenne est {}'.format(rmse))\n",
        "print('le score R2 est {}'.format(r2))\n",
        "print('\\n')"
      ],
      "execution_count": 40,
      "outputs": [
        {
          "output_type": "stream",
          "text": [
            "la performance du modele sur la base\n",
            "---------------------------\n",
            "l erreur quadratique moyenne est 1.2664068637972821e-14\n",
            "le score R2 est 1.0\n",
            "\n",
            "\n"
          ],
          "name": "stdout"
        }
      ]
    },
    {
      "cell_type": "code",
      "metadata": {
        "colab": {
          "base_uri": "https://localhost:8080/"
        },
        "id": "D7Ol0n6ztEI9",
        "outputId": "184ce3c2-1fa2-4e03-9efe-b2ed1bd296e2"
      },
      "source": [
        "#evaluation du modele pour testing set\n",
        "from sklearn.metrics import r2_score\n",
        "y_testing_predict=dtr.predict(x_test)\n",
        "rmset=(np.sqrt(mean_squared_error(y_test,y_testing_predict)))\n",
        "r2=r2_score(y_test,y_testing_predict)\n",
        "print('la performance du modele sur la base')\n",
        "print('---------------------------')\n",
        "print('l erreur quadratique moyenne est {}'.format(rmset))\n",
        "print('le score R2 est {}'.format(r2))\n",
        "print('\\n')"
      ],
      "execution_count": 41,
      "outputs": [
        {
          "output_type": "stream",
          "text": [
            "la performance du modele sur la base\n",
            "---------------------------\n",
            "l erreur quadratique moyenne est 0.0696194376368131\n",
            "le score R2 est 0.9999046340629878\n",
            "\n",
            "\n"
          ],
          "name": "stdout"
        }
      ]
    },
    {
      "cell_type": "markdown",
      "metadata": {
        "id": "SFQ_z5xi0yr3"
      },
      "source": [
        "**Random Forest Regressor**"
      ]
    },
    {
      "cell_type": "code",
      "metadata": {
        "colab": {
          "base_uri": "https://localhost:8080/"
        },
        "id": "YyHwrMQd9Jpr",
        "outputId": "11069c36-c99d-4f93-a3a8-8dbd4b91d8a5"
      },
      "source": [
        "from sklearn.ensemble import RandomForestRegressor\n",
        "rfg=RandomForestRegressor()\n",
        "rfg.fit(x_training,y_training)"
      ],
      "execution_count": 42,
      "outputs": [
        {
          "output_type": "execute_result",
          "data": {
            "text/plain": [
              "RandomForestRegressor(bootstrap=True, ccp_alpha=0.0, criterion='mse',\n",
              "                      max_depth=None, max_features='auto', max_leaf_nodes=None,\n",
              "                      max_samples=None, min_impurity_decrease=0.0,\n",
              "                      min_impurity_split=None, min_samples_leaf=1,\n",
              "                      min_samples_split=2, min_weight_fraction_leaf=0.0,\n",
              "                      n_estimators=100, n_jobs=None, oob_score=False,\n",
              "                      random_state=None, verbose=0, warm_start=False)"
            ]
          },
          "metadata": {
            "tags": []
          },
          "execution_count": 42
        }
      ]
    },
    {
      "cell_type": "code",
      "metadata": {
        "colab": {
          "base_uri": "https://localhost:8080/"
        },
        "id": "_BZWuotn9lRu",
        "outputId": "0d560be8-560f-4f82-9cba-cb9c1c217ceb"
      },
      "source": [
        "y_prediction=rfg.predict(x_test)\n",
        "print(y_prediction)\n"
      ],
      "execution_count": 43,
      "outputs": [
        {
          "output_type": "stream",
          "text": [
            "[5.2   1.6   2.401 ... 2.403 7.6   5.725]\n"
          ],
          "name": "stdout"
        }
      ]
    },
    {
      "cell_type": "code",
      "metadata": {
        "colab": {
          "base_uri": "https://localhost:8080/"
        },
        "id": "XFtGBs3y9yRq",
        "outputId": "1c8bbe03-d653-4afc-b27f-e258852e1881"
      },
      "source": [
        "rfg.predict([[2.6,1360.0,1046.0,166.0,1056.0,113.0,1692.0,1268.0]])"
      ],
      "execution_count": 44,
      "outputs": [
        {
          "output_type": "execute_result",
          "data": {
            "text/plain": [
              "array([11.9])"
            ]
          },
          "metadata": {
            "tags": []
          },
          "execution_count": 44
        }
      ]
    },
    {
      "cell_type": "code",
      "metadata": {
        "colab": {
          "base_uri": "https://localhost:8080/"
        },
        "id": "1uyyUb_C90ao",
        "outputId": "853eb494-4b2e-41b1-95f7-0a347064d3fa"
      },
      "source": [
        "from sklearn.metrics import r2_score\n",
        "r2_score(y_test,y_prediction)\n"
      ],
      "execution_count": 45,
      "outputs": [
        {
          "output_type": "execute_result",
          "data": {
            "text/plain": [
              "0.9999489146187066"
            ]
          },
          "metadata": {
            "tags": []
          },
          "execution_count": 45
        }
      ]
    },
    {
      "cell_type": "code",
      "metadata": {
        "colab": {
          "base_uri": "https://localhost:8080/",
          "height": 592
        },
        "id": "KGiazUcS92yQ",
        "outputId": "a4c84b99-d0b7-4614-f9cd-95f147e7f9bd"
      },
      "source": [
        "plt.figure(figsize=(15,10))\n",
        "plt.plot(y_test,y_prediction,'o')\n",
        "plt.show()\n",
        "plt.show()"
      ],
      "execution_count": 46,
      "outputs": [
        {
          "output_type": "display_data",
          "data": {
            "image/png": "[encoded data removed]",
            "text/plain": [
              "<Figure size 1080x720 with 1 Axes>"
            ]
          },
          "metadata": {
            "tags": [],
            "needs_background": "light"
          }
        }
      ]
    },
    {
      "cell_type": "code",
      "metadata": {
        "colab": {
          "base_uri": "https://localhost:8080/",
          "height": 824
        },
        "id": "IQ3ca-j2AT1w",
        "outputId": "3d7e9847-2604-4bde-b36c-073de6062dc4"
      },
      "source": [
        "prediction_y_data=pd.DataFrame({'actual value':y_test,'predicted_value':y_prediction,'difference':y_test-y_prediction})\n",
        "prediction_y_data[5:30]"
      ],
      "execution_count": 47,
      "outputs": [
        {
          "output_type": "execute_result",
          "data": {
            "text/html": [
              "<div>\n",
              "<style scoped>\n",
              "    .dataframe tbody tr th:only-of-type {\n",
              "        vertical-align: middle;\n",
              "    }\n",
              "\n",
              "    .dataframe tbody tr th {\n",
              "        vertical-align: top;\n",
              "    }\n",
              "\n",
              "    .dataframe thead th {\n",
              "        text-align: right;\n",
              "    }\n",
              "</style>\n",
              "<table border=\"1\" class=\"dataframe\">\n",
              "  <thead>\n",
              "    <tr style=\"text-align: right;\">\n",
              "      <th></th>\n",
              "      <th>actual value</th>\n",
              "      <th>predicted_value</th>\n",
              "      <th>difference</th>\n",
              "    </tr>\n",
              "  </thead>\n",
              "  <tbody>\n",
              "    <tr>\n",
              "      <th>1651</th>\n",
              "      <td>17.0</td>\n",
              "      <td>17.000</td>\n",
              "      <td>0.000000e+00</td>\n",
              "    </tr>\n",
              "    <tr>\n",
              "      <th>6040</th>\n",
              "      <td>14.6</td>\n",
              "      <td>14.600</td>\n",
              "      <td>1.598721e-14</td>\n",
              "    </tr>\n",
              "    <tr>\n",
              "      <th>3480</th>\n",
              "      <td>13.7</td>\n",
              "      <td>13.700</td>\n",
              "      <td>-2.486900e-14</td>\n",
              "    </tr>\n",
              "    <tr>\n",
              "      <th>390</th>\n",
              "      <td>5.2</td>\n",
              "      <td>5.251</td>\n",
              "      <td>-5.100000e-02</td>\n",
              "    </tr>\n",
              "    <tr>\n",
              "      <th>3380</th>\n",
              "      <td>7.1</td>\n",
              "      <td>7.100</td>\n",
              "      <td>-1.243450e-14</td>\n",
              "    </tr>\n",
              "    <tr>\n",
              "      <th>9002</th>\n",
              "      <td>14.8</td>\n",
              "      <td>14.797</td>\n",
              "      <td>3.000000e-03</td>\n",
              "    </tr>\n",
              "    <tr>\n",
              "      <th>6030</th>\n",
              "      <td>5.0</td>\n",
              "      <td>5.000</td>\n",
              "      <td>0.000000e+00</td>\n",
              "    </tr>\n",
              "    <tr>\n",
              "      <th>9198</th>\n",
              "      <td>5.0</td>\n",
              "      <td>5.086</td>\n",
              "      <td>-8.600000e-02</td>\n",
              "    </tr>\n",
              "    <tr>\n",
              "      <th>5110</th>\n",
              "      <td>14.2</td>\n",
              "      <td>14.200</td>\n",
              "      <td>-2.486900e-14</td>\n",
              "    </tr>\n",
              "    <tr>\n",
              "      <th>4320</th>\n",
              "      <td>13.5</td>\n",
              "      <td>13.496</td>\n",
              "      <td>4.000000e-03</td>\n",
              "    </tr>\n",
              "    <tr>\n",
              "      <th>9356</th>\n",
              "      <td>11.9</td>\n",
              "      <td>11.900</td>\n",
              "      <td>1.776357e-15</td>\n",
              "    </tr>\n",
              "    <tr>\n",
              "      <th>5742</th>\n",
              "      <td>8.8</td>\n",
              "      <td>8.800</td>\n",
              "      <td>1.421085e-14</td>\n",
              "    </tr>\n",
              "    <tr>\n",
              "      <th>5274</th>\n",
              "      <td>7.0</td>\n",
              "      <td>7.000</td>\n",
              "      <td>0.000000e+00</td>\n",
              "    </tr>\n",
              "    <tr>\n",
              "      <th>1768</th>\n",
              "      <td>4.1</td>\n",
              "      <td>4.100</td>\n",
              "      <td>-6.217249e-15</td>\n",
              "    </tr>\n",
              "    <tr>\n",
              "      <th>6455</th>\n",
              "      <td>8.3</td>\n",
              "      <td>8.300</td>\n",
              "      <td>1.243450e-14</td>\n",
              "    </tr>\n",
              "    <tr>\n",
              "      <th>9313</th>\n",
              "      <td>3.5</td>\n",
              "      <td>3.510</td>\n",
              "      <td>-1.000000e-02</td>\n",
              "    </tr>\n",
              "    <tr>\n",
              "      <th>2075</th>\n",
              "      <td>4.9</td>\n",
              "      <td>4.893</td>\n",
              "      <td>7.000000e-03</td>\n",
              "    </tr>\n",
              "    <tr>\n",
              "      <th>7707</th>\n",
              "      <td>2.8</td>\n",
              "      <td>2.800</td>\n",
              "      <td>-5.329071e-15</td>\n",
              "    </tr>\n",
              "    <tr>\n",
              "      <th>6679</th>\n",
              "      <td>9.9</td>\n",
              "      <td>9.896</td>\n",
              "      <td>4.000000e-03</td>\n",
              "    </tr>\n",
              "    <tr>\n",
              "      <th>5364</th>\n",
              "      <td>13.1</td>\n",
              "      <td>13.100</td>\n",
              "      <td>7.105427e-15</td>\n",
              "    </tr>\n",
              "    <tr>\n",
              "      <th>1051</th>\n",
              "      <td>18.9</td>\n",
              "      <td>18.899</td>\n",
              "      <td>1.000000e-03</td>\n",
              "    </tr>\n",
              "    <tr>\n",
              "      <th>5138</th>\n",
              "      <td>8.1</td>\n",
              "      <td>8.100</td>\n",
              "      <td>-1.421085e-14</td>\n",
              "    </tr>\n",
              "    <tr>\n",
              "      <th>1691</th>\n",
              "      <td>2.3</td>\n",
              "      <td>2.358</td>\n",
              "      <td>-5.800000e-02</td>\n",
              "    </tr>\n",
              "    <tr>\n",
              "      <th>3269</th>\n",
              "      <td>7.1</td>\n",
              "      <td>7.001</td>\n",
              "      <td>9.900000e-02</td>\n",
              "    </tr>\n",
              "    <tr>\n",
              "      <th>4794</th>\n",
              "      <td>3.6</td>\n",
              "      <td>3.600</td>\n",
              "      <td>-3.108624e-15</td>\n",
              "    </tr>\n",
              "  </tbody>\n",
              "</table>\n",
              "</div>"
            ],
            "text/plain": [
              "      actual value  predicted_value    difference\n",
              "1651          17.0           17.000  0.000000e+00\n",
              "6040          14.6           14.600  1.598721e-14\n",
              "3480          13.7           13.700 -2.486900e-14\n",
              "390            5.2            5.251 -5.100000e-02\n",
              "3380           7.1            7.100 -1.243450e-14\n",
              "9002          14.8           14.797  3.000000e-03\n",
              "6030           5.0            5.000  0.000000e+00\n",
              "9198           5.0            5.086 -8.600000e-02\n",
              "5110          14.2           14.200 -2.486900e-14\n",
              "4320          13.5           13.496  4.000000e-03\n",
              "9356          11.9           11.900  1.776357e-15\n",
              "5742           8.8            8.800  1.421085e-14\n",
              "5274           7.0            7.000  0.000000e+00\n",
              "1768           4.1            4.100 -6.217249e-15\n",
              "6455           8.3            8.300  1.243450e-14\n",
              "9313           3.5            3.510 -1.000000e-02\n",
              "2075           4.9            4.893  7.000000e-03\n",
              "7707           2.8            2.800 -5.329071e-15\n",
              "6679           9.9            9.896  4.000000e-03\n",
              "5364          13.1           13.100  7.105427e-15\n",
              "1051          18.9           18.899  1.000000e-03\n",
              "5138           8.1            8.100 -1.421085e-14\n",
              "1691           2.3            2.358 -5.800000e-02\n",
              "3269           7.1            7.001  9.900000e-02\n",
              "4794           3.6            3.600 -3.108624e-15"
            ]
          },
          "metadata": {
            "tags": []
          },
          "execution_count": 47
        }
      ]
    },
    {
      "cell_type": "code",
      "metadata": {
        "colab": {
          "base_uri": "https://localhost:8080/"
        },
        "id": "262t-_eeRI3Y",
        "outputId": "39d2cdf9-d900-42f7-a91d-74e8156020d4"
      },
      "source": [
        "from sklearn.metrics import mean_squared_error\n",
        "rmse=np.sqrt(mean_squared_error(y_test,y_prediction))      #calculate rmse\n",
        "print('Baseline RMSE of model:',rmse)"
      ],
      "execution_count": 48,
      "outputs": [
        {
          "output_type": "stream",
          "text": [
            "Baseline RMSE of model: 0.05095445846642583\n"
          ],
          "name": "stdout"
        }
      ]
    },
    {
      "cell_type": "code",
      "metadata": {
        "colab": {
          "base_uri": "https://localhost:8080/"
        },
        "id": "uzWR1CGetPlW",
        "outputId": "0b31b1d4-ba34-4243-d20b-fe9a80e89e06"
      },
      "source": [
        "#evaluation du modele pour training set\n",
        "from sklearn.metrics import r2_score\n",
        "y_training_predict=rfg.predict(x_training)\n",
        "rmse=(np.sqrt(mean_squared_error(y_training,y_training_predict)))\n",
        "r2=r2_score(y_training,y_training_predict)\n",
        "print('la performance du modele sur la base')\n",
        "print('---------------------------')\n",
        "print('l erreur quadratique moyenne est {}'.format(rmse))\n",
        "print('le score R2 est {}'.format(r2))\n",
        "print('\\n')"
      ],
      "execution_count": 49,
      "outputs": [
        {
          "output_type": "stream",
          "text": [
            "la performance du modele sur la base\n",
            "---------------------------\n",
            "l erreur quadratique moyenne est 0.0756185137409531\n",
            "le score R2 est 0.9998948749826702\n",
            "\n",
            "\n"
          ],
          "name": "stdout"
        }
      ]
    },
    {
      "cell_type": "code",
      "metadata": {
        "colab": {
          "base_uri": "https://localhost:8080/"
        },
        "id": "7D-vjX3XtVeq",
        "outputId": "d0ddec79-d40b-40e1-bf2a-e1b64de08096"
      },
      "source": [
        "#evaluation du modele pour testing set\n",
        "from sklearn.metrics import r2_score\n",
        "y_testing_predict=rfg.predict(x_test)\n",
        "rmsef=(np.sqrt(mean_squared_error(y_test,y_testing_predict)))\n",
        "r2=r2_score(y_test,y_testing_predict)\n",
        "print('la performance du modele sur la base')\n",
        "print('---------------------------')\n",
        "print('l erreur quadratique moyenne est {}'.format(rmsef))\n",
        "print('le score R2 est {}'.format(r2))\n",
        "print('\\n')"
      ],
      "execution_count": 50,
      "outputs": [
        {
          "output_type": "stream",
          "text": [
            "la performance du modele sur la base\n",
            "---------------------------\n",
            "l erreur quadratique moyenne est 0.05095445846642583\n",
            "le score R2 est 0.9999489146187066\n",
            "\n",
            "\n"
          ],
          "name": "stdout"
        }
      ]
    },
    {
      "cell_type": "markdown",
      "metadata": {
        "id": "AVE4T_T01n5T"
      },
      "source": [
        "**SVR**"
      ]
    },
    {
      "cell_type": "code",
      "metadata": {
        "colab": {
          "base_uri": "https://localhost:8080/"
        },
        "id": "-s0FVqGd97yn",
        "outputId": "1ebd1f3f-59ce-4d80-f362-2ed953ec56e2"
      },
      "source": [
        "from sklearn.svm import SVR\n",
        "svr=SVR()\n",
        "svr.fit(x_training,y_training)"
      ],
      "execution_count": 51,
      "outputs": [
        {
          "output_type": "execute_result",
          "data": {
            "text/plain": [
              "SVR(C=1.0, cache_size=200, coef0=0.0, degree=3, epsilon=0.1, gamma='scale',\n",
              "    kernel='rbf', max_iter=-1, shrinking=True, tol=0.001, verbose=False)"
            ]
          },
          "metadata": {
            "tags": []
          },
          "execution_count": 51
        }
      ]
    },
    {
      "cell_type": "code",
      "metadata": {
        "colab": {
          "base_uri": "https://localhost:8080/"
        },
        "id": "zKdAc4ch-lkt",
        "outputId": "382eb7b7-ea55-4337-f120-a9f0c2f4d542"
      },
      "source": [
        "y_prediction=svr.predict(x_test)\n",
        "print(y_prediction)"
      ],
      "execution_count": 52,
      "outputs": [
        {
          "output_type": "stream",
          "text": [
            "[5.09419266 1.56873998 2.49511814 ... 2.43546258 7.5558179  5.72044576]\n"
          ],
          "name": "stdout"
        }
      ]
    },
    {
      "cell_type": "code",
      "metadata": {
        "colab": {
          "base_uri": "https://localhost:8080/"
        },
        "id": "myls_eWq_A5z",
        "outputId": "8a453e9f-0459-4155-ec0a-a814d82dced0"
      },
      "source": [
        "svr.predict([[2.6,1360.0,1046.0,166.0,1056.0,113.0,1692.0,1268.0]])"
      ],
      "execution_count": 53,
      "outputs": [
        {
          "output_type": "execute_result",
          "data": {
            "text/plain": [
              "array([11.91014469])"
            ]
          },
          "metadata": {
            "tags": []
          },
          "execution_count": 53
        }
      ]
    },
    {
      "cell_type": "code",
      "metadata": {
        "colab": {
          "base_uri": "https://localhost:8080/"
        },
        "id": "xCCs3GG5_Fe1",
        "outputId": "bc48137c-9a25-4e6e-fe21-19ee63bdf845"
      },
      "source": [
        "from sklearn.metrics import r2_score\n",
        "r2_score(y_test,y_prediction)\n"
      ],
      "execution_count": 54,
      "outputs": [
        {
          "output_type": "execute_result",
          "data": {
            "text/plain": [
              "0.9969314323528946"
            ]
          },
          "metadata": {
            "tags": []
          },
          "execution_count": 54
        }
      ]
    },
    {
      "cell_type": "code",
      "metadata": {
        "colab": {
          "base_uri": "https://localhost:8080/",
          "height": 592
        },
        "id": "_CMi-qhT_Hdq",
        "outputId": "0eff75c0-efe9-45e8-bbd3-4d90604ca1ee"
      },
      "source": [
        "plt.figure(figsize=(12,10))\n",
        "plt.plot(y_test,y_prediction,'o')\n",
        "plt.show()"
      ],
      "execution_count": 55,
      "outputs": [
        {
          "output_type": "display_data",
          "data": {
            "image/png": "[encoded data removed]",
            "text/plain": [
              "<Figure size 864x720 with 1 Axes>"
            ]
          },
          "metadata": {
            "tags": [],
            "needs_background": "light"
          }
        }
      ]
    },
    {
      "cell_type": "code",
      "metadata": {
        "colab": {
          "base_uri": "https://localhost:8080/",
          "height": 824
        },
        "id": "auIBgPbhAO78",
        "outputId": "90151c31-7c7e-42f8-da02-8e3013f0d18c"
      },
      "source": [
        "prediction_y_data=pd.DataFrame({'actual value':y_test,'predicted_value':y_prediction,'difference':y_test-y_prediction})\n",
        "prediction_y_data[5:30]"
      ],
      "execution_count": 56,
      "outputs": [
        {
          "output_type": "execute_result",
          "data": {
            "text/html": [
              "<div>\n",
              "<style scoped>\n",
              "    .dataframe tbody tr th:only-of-type {\n",
              "        vertical-align: middle;\n",
              "    }\n",
              "\n",
              "    .dataframe tbody tr th {\n",
              "        vertical-align: top;\n",
              "    }\n",
              "\n",
              "    .dataframe thead th {\n",
              "        text-align: right;\n",
              "    }\n",
              "</style>\n",
              "<table border=\"1\" class=\"dataframe\">\n",
              "  <thead>\n",
              "    <tr style=\"text-align: right;\">\n",
              "      <th></th>\n",
              "      <th>actual value</th>\n",
              "      <th>predicted_value</th>\n",
              "      <th>difference</th>\n",
              "    </tr>\n",
              "  </thead>\n",
              "  <tbody>\n",
              "    <tr>\n",
              "      <th>1651</th>\n",
              "      <td>17.0</td>\n",
              "      <td>17.012710</td>\n",
              "      <td>-0.012710</td>\n",
              "    </tr>\n",
              "    <tr>\n",
              "      <th>6040</th>\n",
              "      <td>14.6</td>\n",
              "      <td>14.597002</td>\n",
              "      <td>0.002998</td>\n",
              "    </tr>\n",
              "    <tr>\n",
              "      <th>3480</th>\n",
              "      <td>13.7</td>\n",
              "      <td>13.647698</td>\n",
              "      <td>0.052302</td>\n",
              "    </tr>\n",
              "    <tr>\n",
              "      <th>390</th>\n",
              "      <td>5.2</td>\n",
              "      <td>5.255225</td>\n",
              "      <td>-0.055225</td>\n",
              "    </tr>\n",
              "    <tr>\n",
              "      <th>3380</th>\n",
              "      <td>7.1</td>\n",
              "      <td>7.030224</td>\n",
              "      <td>0.069776</td>\n",
              "    </tr>\n",
              "    <tr>\n",
              "      <th>9002</th>\n",
              "      <td>14.8</td>\n",
              "      <td>14.750865</td>\n",
              "      <td>0.049135</td>\n",
              "    </tr>\n",
              "    <tr>\n",
              "      <th>6030</th>\n",
              "      <td>5.0</td>\n",
              "      <td>5.065586</td>\n",
              "      <td>-0.065586</td>\n",
              "    </tr>\n",
              "    <tr>\n",
              "      <th>9198</th>\n",
              "      <td>5.0</td>\n",
              "      <td>4.995523</td>\n",
              "      <td>0.004477</td>\n",
              "    </tr>\n",
              "    <tr>\n",
              "      <th>5110</th>\n",
              "      <td>14.2</td>\n",
              "      <td>14.183703</td>\n",
              "      <td>0.016297</td>\n",
              "    </tr>\n",
              "    <tr>\n",
              "      <th>4320</th>\n",
              "      <td>13.5</td>\n",
              "      <td>13.579875</td>\n",
              "      <td>-0.079875</td>\n",
              "    </tr>\n",
              "    <tr>\n",
              "      <th>9356</th>\n",
              "      <td>11.9</td>\n",
              "      <td>11.602397</td>\n",
              "      <td>0.297603</td>\n",
              "    </tr>\n",
              "    <tr>\n",
              "      <th>5742</th>\n",
              "      <td>8.8</td>\n",
              "      <td>8.832639</td>\n",
              "      <td>-0.032639</td>\n",
              "    </tr>\n",
              "    <tr>\n",
              "      <th>5274</th>\n",
              "      <td>7.0</td>\n",
              "      <td>6.982855</td>\n",
              "      <td>0.017145</td>\n",
              "    </tr>\n",
              "    <tr>\n",
              "      <th>1768</th>\n",
              "      <td>4.1</td>\n",
              "      <td>4.107470</td>\n",
              "      <td>-0.007470</td>\n",
              "    </tr>\n",
              "    <tr>\n",
              "      <th>6455</th>\n",
              "      <td>8.3</td>\n",
              "      <td>8.426381</td>\n",
              "      <td>-0.126381</td>\n",
              "    </tr>\n",
              "    <tr>\n",
              "      <th>9313</th>\n",
              "      <td>3.5</td>\n",
              "      <td>3.619345</td>\n",
              "      <td>-0.119345</td>\n",
              "    </tr>\n",
              "    <tr>\n",
              "      <th>2075</th>\n",
              "      <td>4.9</td>\n",
              "      <td>4.983451</td>\n",
              "      <td>-0.083451</td>\n",
              "    </tr>\n",
              "    <tr>\n",
              "      <th>7707</th>\n",
              "      <td>2.8</td>\n",
              "      <td>2.780880</td>\n",
              "      <td>0.019120</td>\n",
              "    </tr>\n",
              "    <tr>\n",
              "      <th>6679</th>\n",
              "      <td>9.9</td>\n",
              "      <td>9.978925</td>\n",
              "      <td>-0.078925</td>\n",
              "    </tr>\n",
              "    <tr>\n",
              "      <th>5364</th>\n",
              "      <td>13.1</td>\n",
              "      <td>13.094410</td>\n",
              "      <td>0.005590</td>\n",
              "    </tr>\n",
              "    <tr>\n",
              "      <th>1051</th>\n",
              "      <td>18.9</td>\n",
              "      <td>18.789037</td>\n",
              "      <td>0.110963</td>\n",
              "    </tr>\n",
              "    <tr>\n",
              "      <th>5138</th>\n",
              "      <td>8.1</td>\n",
              "      <td>8.113384</td>\n",
              "      <td>-0.013384</td>\n",
              "    </tr>\n",
              "    <tr>\n",
              "      <th>1691</th>\n",
              "      <td>2.3</td>\n",
              "      <td>2.329857</td>\n",
              "      <td>-0.029857</td>\n",
              "    </tr>\n",
              "    <tr>\n",
              "      <th>3269</th>\n",
              "      <td>7.1</td>\n",
              "      <td>7.127469</td>\n",
              "      <td>-0.027469</td>\n",
              "    </tr>\n",
              "    <tr>\n",
              "      <th>4794</th>\n",
              "      <td>3.6</td>\n",
              "      <td>3.496492</td>\n",
              "      <td>0.103508</td>\n",
              "    </tr>\n",
              "  </tbody>\n",
              "</table>\n",
              "</div>"
            ],
            "text/plain": [
              "      actual value  predicted_value  difference\n",
              "1651          17.0        17.012710   -0.012710\n",
              "6040          14.6        14.597002    0.002998\n",
              "3480          13.7        13.647698    0.052302\n",
              "390            5.2         5.255225   -0.055225\n",
              "3380           7.1         7.030224    0.069776\n",
              "9002          14.8        14.750865    0.049135\n",
              "6030           5.0         5.065586   -0.065586\n",
              "9198           5.0         4.995523    0.004477\n",
              "5110          14.2        14.183703    0.016297\n",
              "4320          13.5        13.579875   -0.079875\n",
              "9356          11.9        11.602397    0.297603\n",
              "5742           8.8         8.832639   -0.032639\n",
              "5274           7.0         6.982855    0.017145\n",
              "1768           4.1         4.107470   -0.007470\n",
              "6455           8.3         8.426381   -0.126381\n",
              "9313           3.5         3.619345   -0.119345\n",
              "2075           4.9         4.983451   -0.083451\n",
              "7707           2.8         2.780880    0.019120\n",
              "6679           9.9         9.978925   -0.078925\n",
              "5364          13.1        13.094410    0.005590\n",
              "1051          18.9        18.789037    0.110963\n",
              "5138           8.1         8.113384   -0.013384\n",
              "1691           2.3         2.329857   -0.029857\n",
              "3269           7.1         7.127469   -0.027469\n",
              "4794           3.6         3.496492    0.103508"
            ]
          },
          "metadata": {
            "tags": []
          },
          "execution_count": 56
        }
      ]
    },
    {
      "cell_type": "code",
      "metadata": {
        "colab": {
          "base_uri": "https://localhost:8080/"
        },
        "id": "s9EZf7PiRVZF",
        "outputId": "3a5acd1f-5f9c-4443-dbea-da2d57b4d7a6"
      },
      "source": [
        "from sklearn.metrics import mean_squared_error\n",
        "rmse=np.sqrt(mean_squared_error(y_test,y_prediction))      #calculate rmse\n",
        "print('Baseline RMSE of model:',rmse)"
      ],
      "execution_count": 57,
      "outputs": [
        {
          "output_type": "stream",
          "text": [
            "Baseline RMSE of model: 0.39491326487960576\n"
          ],
          "name": "stdout"
        }
      ]
    },
    {
      "cell_type": "code",
      "metadata": {
        "colab": {
          "base_uri": "https://localhost:8080/"
        },
        "id": "xd-sVMOVtaAj",
        "outputId": "50e6a1be-e981-4d84-db11-060577ae536f"
      },
      "source": [
        "#evaluation du modele pour training set\n",
        "from sklearn.metrics import r2_score\n",
        "y_training_predict=svr.predict(x_training)\n",
        "rmse=(np.sqrt(mean_squared_error(y_training,y_training_predict)))\n",
        "r2=r2_score(y_training,y_training_predict)\n",
        "print('la performance du modele sur la base')\n",
        "print('---------------------------')\n",
        "print('l erreur quadratique moyenne est {}'.format(rmse))\n",
        "print('le score R2 est {}'.format(r2))\n",
        "print('\\n')"
      ],
      "execution_count": 58,
      "outputs": [
        {
          "output_type": "stream",
          "text": [
            "la performance du modele sur la base\n",
            "---------------------------\n",
            "l erreur quadratique moyenne est 0.6106044467960549\n",
            "le score R2 est 0.993145595474074\n",
            "\n",
            "\n"
          ],
          "name": "stdout"
        }
      ]
    },
    {
      "cell_type": "code",
      "metadata": {
        "colab": {
          "base_uri": "https://localhost:8080/"
        },
        "id": "6ykHkCxhtfCf",
        "outputId": "af2005d1-8ba9-40e4-fe66-fd859533fafb"
      },
      "source": [
        "#evaluation du modele pour testing set\n",
        "from sklearn.metrics import r2_score\n",
        "y_testing_predict=svr.predict(x_test)\n",
        "rmse=(np.sqrt(mean_squared_error(y_test,y_testing_predict)))\n",
        "r2=r2_score(y_test,y_testing_predict)\n",
        "print('la performance du modele sur la base')\n",
        "print('---------------------------')\n",
        "print('l erreur quadratique moyenne est {}'.format(rmse))\n",
        "print('le score R2 est {}'.format(r2))\n",
        "print('\\n')"
      ],
      "execution_count": 59,
      "outputs": [
        {
          "output_type": "stream",
          "text": [
            "la performance du modele sur la base\n",
            "---------------------------\n",
            "l erreur quadratique moyenne est 0.39491326487960576\n",
            "le score R2 est 0.9969314323528946\n",
            "\n",
            "\n"
          ],
          "name": "stdout"
        }
      ]
    },
    {
      "cell_type": "markdown",
      "metadata": {
        "id": "53-NNqgB4eq8"
      },
      "source": [
        "on constate que **le meilleur modèle est le modèle Random Forest Regressor** parce qu'en testing il a la plus petite erreur quadratique moyenne en la comparant aux autres erreurs des autres modèles et il a un score R2 qui est élevé .\n"
      ]
    }
  ]
}